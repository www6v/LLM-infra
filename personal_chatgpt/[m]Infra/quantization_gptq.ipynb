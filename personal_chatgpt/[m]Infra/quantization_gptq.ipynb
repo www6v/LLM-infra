{
 "cells": [
  {
   "cell_type": "markdown",
   "id": "d739b979",
   "metadata": {},
   "source": [
    "## quantization"
   ]
  },
  {
   "cell_type": "markdown",
   "id": "9c1d6c7c",
   "metadata": {},
   "source": [
    "### fp32 => 8/4bit (zero point quantization)"
   ]
  },
  {
   "cell_type": "markdown",
   "id": "ccaaa96c",
   "metadata": {},
   "source": [
    "- 8bits\n",
    "    - [-127, 127]\n",
    "- 两个layer（每个layer内部是 neurons）之间通过 weight matrix 来连接（fully connected），如下面的矩阵"
   ]
  },
  {
   "cell_type": "markdown",
   "id": "cd044088",
   "metadata": {},
   "source": [
    "$$\n",
    "\\begin{bmatrix}\n",
    "1.21 & 3.21 & 0.84\\\\\n",
    "2.87 & 9.17 & -4.39\\\\\n",
    "-6.98 & 3.55 & 2.18\n",
    "\\end{bmatrix} \\Rightarrow \n",
    "$$\n",
    "\n",
    "- 矩阵最大值为 9.17 => 127\n",
    "    - scaling factor: 127/9.17 == 13.84\n",
    "- scaling factor\n",
    "    - 137.035 => 137,035 & scaled by 1/1000"
   ]
  },
  {
   "cell_type": "code",
   "execution_count": 3,
   "id": "d5901e13",
   "metadata": {
    "ExecuteTime": {
     "end_time": "2023-06-20T13:03:58.123271Z",
     "start_time": "2023-06-20T13:03:58.109996Z"
    }
   },
   "outputs": [
    {
     "data": {
      "text/plain": [
       "array([[ 17,  44,  12],\n",
       "       [ 40, 127, -61],\n",
       "       [-97,  49,  30]], dtype=int8)"
      ]
     },
     "execution_count": 3,
     "metadata": {},
     "output_type": "execute_result"
    }
   ],
   "source": [
    "import numpy as np\n",
    "w = np.asarray([[1.21, 3.21, 0.84], \n",
    "                [2.87, 9.17, -4.39], \n",
    "                [-6.98, 3.55, 2.18]])\n",
    "np.round(127/w.max() * w).astype(np.int8)"
   ]
  },
  {
   "cell_type": "markdown",
   "id": "9828c0e0",
   "metadata": {},
   "source": [
    "## gptq"
   ]
  },
  {
   "cell_type": "markdown",
   "id": "bc489419",
   "metadata": {},
   "source": [
    "- GPTQ：顾名思义就是 gpt quantization\n",
    "    - https://arxiv.org/abs/2210.17323\n",
    "    - https://github.com/qwopqwop200/GPTQ-for-LLaMa\n",
    "- 4bits/3bits"
   ]
  },
  {
   "cell_type": "code",
   "execution_count": null,
   "id": "161c349c",
   "metadata": {},
   "outputs": [],
   "source": []
  }
 ],
 "metadata": {
  "kernelspec": {
   "display_name": "Python 3 (ipykernel)",
   "language": "python",
   "name": "python3"
  },
  "language_info": {
   "codemirror_mode": {
    "name": "ipython",
    "version": 3
   },
   "file_extension": ".py",
   "mimetype": "text/x-python",
   "name": "python",
   "nbconvert_exporter": "python",
   "pygments_lexer": "ipython3",
   "version": "3.10.9"
  },
  "toc": {
   "base_numbering": 1,
   "nav_menu": {},
   "number_sections": true,
   "sideBar": true,
   "skip_h1_title": false,
   "title_cell": "Table of Contents",
   "title_sidebar": "Contents",
   "toc_cell": false,
   "toc_position": {},
   "toc_section_display": true,
   "toc_window_display": false
  }
 },
 "nbformat": 4,
 "nbformat_minor": 5
}
