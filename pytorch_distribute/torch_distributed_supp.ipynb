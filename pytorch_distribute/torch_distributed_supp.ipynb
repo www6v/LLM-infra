{
 "cells": [
  {
   "cell_type": "code",
   "execution_count": 1,
   "id": "43898c5d-60ee-4b18-b625-36d93d81f60c",
   "metadata": {
    "execution": {
     "iopub.execute_input": "2025-04-19T05:31:46.940636Z",
     "iopub.status.busy": "2025-04-19T05:31:46.940268Z",
     "iopub.status.idle": "2025-04-19T05:31:46.948633Z",
     "shell.execute_reply": "2025-04-19T05:31:46.947289Z",
     "shell.execute_reply.started": "2025-04-19T05:31:46.940611Z"
    }
   },
   "outputs": [],
   "source": [
    "from torch.distributed import init_device_mesh"
   ]
  },
  {
   "cell_type": "markdown",
   "id": "39b07e97-ca92-4fd7-899a-33d216901e79",
   "metadata": {},
   "source": [
    "### device mesh"
   ]
  },
  {
   "cell_type": "markdown",
   "id": "507f5849-be22-48db-ac36-9c6ad72de212",
   "metadata": {},
   "source": [
    "- 设备网格，4d 并行（dp, tp, pp, sp)\n",
    "\n",
    "```\n",
    ">>> mesh_1d = init_device_mesh(\"cuda\", mesh_shape=(8,))\n",
    ">>> mesh_2d = init_device_mesh(\"cuda\", mesh_shape=(2, 8), mesh_dim_names=(\"dp\", \"tp\"))\n",
    "\n",
    "sp_size = 8\n",
    "dp_size = 1\n",
    "ulysses_device_mesh = init_device_mesh(device_type='cuda',\n",
    "                                       mesh_shape=(dp_size, sp_size),\n",
    "                                       mesh_dim_names=('dp', 'sp'))\n",
    "```"
   ]
  }
 ],
 "metadata": {
  "kernelspec": {
   "display_name": "casual",
   "language": "python",
   "name": "casual"
  },
  "language_info": {
   "codemirror_mode": {
    "name": "ipython",
    "version": 3
   },
   "file_extension": ".py",
   "mimetype": "text/x-python",
   "name": "python",
   "nbconvert_exporter": "python",
   "pygments_lexer": "ipython3",
   "version": "3.10.0"
  }
 },
 "nbformat": 4,
 "nbformat_minor": 5
}
