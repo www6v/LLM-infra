{
 "cells": [
  {
   "cell_type": "markdown",
   "id": "ff4af96f-da0b-40f5-9f85-a7f9b69b2df8",
   "metadata": {},
   "source": [
    "### 一些概念"
   ]
  },
  {
   "cell_type": "markdown",
   "id": "cb07276f-5a8e-484b-a002-0b81da664e0f",
   "metadata": {},
   "source": [
    "- overhead（开销）：额外资源、时间或计算成本等；\n",
    "    - 比如分布式中的 communication overhead（通信开销），额外的内存开销（Memory Overhead，for model 副本）等；"
   ]
  }
 ],
 "metadata": {
  "kernelspec": {
   "display_name": "Python 3 (ipykernel)",
   "language": "python",
   "name": "python3"
  },
  "language_info": {
   "codemirror_mode": {
    "name": "ipython",
    "version": 3
   },
   "file_extension": ".py",
   "mimetype": "text/x-python",
   "name": "python",
   "nbconvert_exporter": "python",
   "pygments_lexer": "ipython3",
   "version": "3.10.13"
  }
 },
 "nbformat": 4,
 "nbformat_minor": 5
}
