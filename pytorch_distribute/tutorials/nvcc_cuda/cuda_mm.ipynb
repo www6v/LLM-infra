{
 "cells": [
  {
   "cell_type": "code",
   "execution_count": 1,
   "id": "07149066-bf47-4e3a-9096-7b2c44829a2d",
   "metadata": {},
   "outputs": [],
   "source": [
    "from IPython.display import Image"
   ]
  },
  {
   "cell_type": "markdown",
   "id": "ec089872-868b-4db9-b543-cd24d9a8628f",
   "metadata": {},
   "source": [
    "## 执行单元层级"
   ]
  },
  {
   "cell_type": "markdown",
   "id": "333b574e-2ab3-44c2-981e-c6c0f835f5d2",
   "metadata": {},
   "source": [
    "- https://harmanani.github.io/classes/csc447/Notes/Lecture15.pdf\n",
    "- thread => block => grid\n",
    "    - block: threads 的集合\n",
    "        - threadsPerBlock：threadIdx，当前线程在其所在的线程块block的索引；\n",
    "        - blockDim：线程块的维度（线程数）\n",
    "    - grid：blocks 的集合\n",
    "        - blocksPerGrid：blockIdx，\n",
    "        - gridDim：网格的维度（线程块数）"
   ]
  },
  {
   "cell_type": "markdown",
   "id": "139e624e-5ecd-46c5-9245-e38cfc9daa0f",
   "metadata": {},
   "source": [
    "## 矩阵乘法（tiling）"
   ]
  },
  {
   "cell_type": "markdown",
   "id": "9324de19-d794-4b01-9365-6781419d7994",
   "metadata": {},
   "source": [
    "- https://ecatue.gitlab.io/GPU2016/cookbook/matrix_multiplication_cuda/\n",
    "- 针对的都是 result Matrix（A*B=C 的 C）\n",
    "    - A naive implementation on GPUs assigns one thread to compute one element of matrix C.\n",
    "        - Each **thread** loads one row of matrix A and one column of matrix B from **global memory**, do the inner product, and store the result back to matrix C in the global memory.\n",
    "    - Tiling "
   ]
  },
  {
   "cell_type": "code",
   "execution_count": 5,
   "id": "9a8d4751-2cfe-48c7-8e04-812fd9e09899",
   "metadata": {},
   "outputs": [
    {
     "data": {
      "text/html": [
       "<img src=\"https://ecatue.gitlab.io/GPU2016/media/GPU_naive.png\" width=\"500\"/>"
      ],
      "text/plain": [
       "<IPython.core.display.Image object>"
      ]
     },
     "execution_count": 5,
     "metadata": {},
     "output_type": "execute_result"
    }
   ],
   "source": [
    "Image(url='https://ecatue.gitlab.io/GPU2016/media/GPU_naive.png', width=500)"
   ]
  },
  {
   "cell_type": "code",
   "execution_count": 6,
   "id": "7223701b-a2a3-43ff-8cca-dbbe70f80b71",
   "metadata": {},
   "outputs": [
    {
     "data": {
      "text/html": [
       "<img src=\"https://ecatue.gitlab.io/GPU2016/media/GPU_tiling.png\" width=\"500\"/>"
      ],
      "text/plain": [
       "<IPython.core.display.Image object>"
      ]
     },
     "execution_count": 6,
     "metadata": {},
     "output_type": "execute_result"
    }
   ],
   "source": [
    "Image(url='https://ecatue.gitlab.io/GPU2016/media/GPU_tiling.png', width=500)"
   ]
  },
  {
   "cell_type": "code",
   "execution_count": 7,
   "id": "7cad2df4-b89a-4b3c-a025-f516cdacadaa",
   "metadata": {},
   "outputs": [
    {
     "data": {
      "text/html": [
       "<img src=\"https://ecatue.gitlab.io/GPU2016/media/GPU_tiling_mul2.png\" width=\"500\"/>"
      ],
      "text/plain": [
       "<IPython.core.display.Image object>"
      ]
     },
     "execution_count": 7,
     "metadata": {},
     "output_type": "execute_result"
    }
   ],
   "source": [
    "Image(url='https://ecatue.gitlab.io/GPU2016/media/GPU_tiling_mul2.png', width=500)"
   ]
  },
  {
   "cell_type": "code",
   "execution_count": null,
   "id": "6c000651-2d70-4e08-a5b4-ca350d9336f4",
   "metadata": {},
   "outputs": [],
   "source": []
  }
 ],
 "metadata": {
  "kernelspec": {
   "display_name": "Python 3 (ipykernel)",
   "language": "python",
   "name": "python3"
  },
  "language_info": {
   "codemirror_mode": {
    "name": "ipython",
    "version": 3
   },
   "file_extension": ".py",
   "mimetype": "text/x-python",
   "name": "python",
   "nbconvert_exporter": "python",
   "pygments_lexer": "ipython3",
   "version": "3.10.13"
  }
 },
 "nbformat": 4,
 "nbformat_minor": 5
}
