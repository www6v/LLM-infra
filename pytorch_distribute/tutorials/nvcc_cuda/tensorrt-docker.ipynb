{
 "cells": [
  {
   "cell_type": "markdown",
   "id": "3e91090b-4201-4b3d-a585-8015ddf7b785",
   "metadata": {},
   "source": [
    "- tensorrt for high-performance inference\n",
    "    - 高性能推理（inference optimization）\n",
    "    - model => onnx format => TensorRT engine\n",
    "- https://www.youtube.com/watch?v=6rZNLaS775w"
   ]
  },
  {
   "cell_type": "markdown",
   "id": "76d70616-b1e9-40b9-93d3-94f0936f8d80",
   "metadata": {},
   "source": [
    "```\n",
    "git clone git@github.com:NVIDIA/TensorRT.git\n",
    "cd TensorRT\n",
    "\n",
    "# git checkout release/8.2\n",
    "git checkout release/10.0\n",
    "git submodule update --init --recursive\n",
    "\n",
    "./docker/build.sh --file ./docker/ubuntu-22.04.Dockerfile --tag tensorrt-ubuntu-22.04\n",
    "./docker/launch.sh --tag tensorrt-ubuntu-22.04 --gpus all --jupyter 8888\n",
    "```"
   ]
  }
 ],
 "metadata": {
  "kernelspec": {
   "display_name": "Python 3 (ipykernel)",
   "language": "python",
   "name": "python3"
  },
  "language_info": {
   "codemirror_mode": {
    "name": "ipython",
    "version": 3
   },
   "file_extension": ".py",
   "mimetype": "text/x-python",
   "name": "python",
   "nbconvert_exporter": "python",
   "pygments_lexer": "ipython3",
   "version": "3.10.13"
  }
 },
 "nbformat": 4,
 "nbformat_minor": 5
}
