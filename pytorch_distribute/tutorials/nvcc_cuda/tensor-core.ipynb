{
 "cells": [
  {
   "cell_type": "code",
   "execution_count": 1,
   "id": "cf29a2d4-a9e5-46dd-8532-432e6b4ce76d",
   "metadata": {
    "execution": {
     "iopub.execute_input": "2024-06-10T01:27:41.051089Z",
     "iopub.status.busy": "2024-06-10T01:27:41.050429Z",
     "iopub.status.idle": "2024-06-10T01:27:42.545391Z",
     "shell.execute_reply": "2024-06-10T01:27:42.544614Z",
     "shell.execute_reply.started": "2024-06-10T01:27:41.051041Z"
    }
   },
   "outputs": [
    {
     "data": {
      "text/plain": [
       "'2.2.2+cu121'"
      ]
     },
     "execution_count": 1,
     "metadata": {},
     "output_type": "execute_result"
    }
   ],
   "source": [
    "import torch\n",
    "torch.__version__"
   ]
  },
  {
   "cell_type": "markdown",
   "id": "b782841b-1429-4d5d-ace5-7398fc72b3aa",
   "metadata": {},
   "source": [
    "## FP32 vs. TF32 "
   ]
  },
  {
   "cell_type": "markdown",
   "id": "26ee8a34-8732-43a3-a982-6d00fbbf0ba9",
   "metadata": {},
   "source": [
    "- Starting in PyTorch 1.7, there is a new flag called `allow_tf32`.\n",
    "    - This flag defaults to True in PyTorch 1.7 to PyTorch 1.11, and False in PyTorch 1.12 and later. "
   ]
  },
  {
   "cell_type": "code",
   "execution_count": 2,
   "id": "973612a4-e739-4035-85bc-7419bc05a72b",
   "metadata": {
    "execution": {
     "iopub.execute_input": "2024-06-10T01:27:45.908788Z",
     "iopub.status.busy": "2024-06-10T01:27:45.908566Z",
     "iopub.status.idle": "2024-06-10T01:27:45.914371Z",
     "shell.execute_reply": "2024-06-10T01:27:45.913578Z",
     "shell.execute_reply.started": "2024-06-10T01:27:45.908776Z"
    }
   },
   "outputs": [
    {
     "data": {
      "text/plain": [
       "(False, True)"
      ]
     },
     "execution_count": 2,
     "metadata": {},
     "output_type": "execute_result"
    }
   ],
   "source": [
    "torch.backends.cuda.matmul.allow_tf32, torch.backends.cudnn.allow_tf32"
   ]
  },
  {
   "cell_type": "code",
   "execution_count": 3,
   "id": "a08c1fd8-d8ae-4973-b3cf-41a5291d81c3",
   "metadata": {
    "execution": {
     "iopub.execute_input": "2024-06-10T01:27:49.283862Z",
     "iopub.status.busy": "2024-06-10T01:27:49.283259Z",
     "iopub.status.idle": "2024-06-10T01:27:49.478536Z",
     "shell.execute_reply": "2024-06-10T01:27:49.477238Z",
     "shell.execute_reply.started": "2024-06-10T01:27:49.283819Z"
    }
   },
   "outputs": [],
   "source": [
    "a_full = torch.randn(10240, 10240, dtype=torch.double, device='cuda')\n",
    "b_full = torch.randn(10240, 10240, dtype=torch.double, device='cuda')"
   ]
  },
  {
   "cell_type": "code",
   "execution_count": 4,
   "id": "8d56e474-131f-4d8f-bba8-d28bf86e959c",
   "metadata": {
    "execution": {
     "iopub.execute_input": "2024-06-10T01:27:53.855448Z",
     "iopub.status.busy": "2024-06-10T01:27:53.855153Z",
     "iopub.status.idle": "2024-06-10T01:27:53.865021Z",
     "shell.execute_reply": "2024-06-10T01:27:53.862906Z",
     "shell.execute_reply.started": "2024-06-10T01:27:53.855430Z"
    }
   },
   "outputs": [
    {
     "data": {
      "text/plain": [
       "torch.float64"
      ]
     },
     "execution_count": 4,
     "metadata": {},
     "output_type": "execute_result"
    }
   ],
   "source": [
    "a_full.dtype"
   ]
  },
  {
   "cell_type": "code",
   "execution_count": 5,
   "id": "684f1beb-dbe6-40d9-be02-e6843ae47e89",
   "metadata": {
    "execution": {
     "iopub.execute_input": "2024-06-10T01:28:07.526800Z",
     "iopub.status.busy": "2024-06-10T01:28:07.526180Z",
     "iopub.status.idle": "2024-06-10T01:28:09.475454Z",
     "shell.execute_reply": "2024-06-10T01:28:09.474635Z",
     "shell.execute_reply.started": "2024-06-10T01:28:07.526756Z"
    }
   },
   "outputs": [
    {
     "data": {
      "text/plain": [
       "tensor(80.7286, device='cuda:0', dtype=torch.float64)"
      ]
     },
     "execution_count": 5,
     "metadata": {},
     "output_type": "execute_result"
    }
   ],
   "source": [
    "ab_full = a_full @ b_full\n",
    "mean = ab_full.abs().mean() \n",
    "mean"
   ]
  },
  {
   "cell_type": "code",
   "execution_count": 6,
   "id": "c48e47df-66c7-494b-859f-610ab201dcf8",
   "metadata": {
    "execution": {
     "iopub.execute_input": "2024-06-08T03:32:36.802632Z",
     "iopub.status.busy": "2024-06-08T03:32:36.802274Z",
     "iopub.status.idle": "2024-06-08T03:32:36.813309Z",
     "shell.execute_reply": "2024-06-08T03:32:36.812419Z",
     "shell.execute_reply.started": "2024-06-08T03:32:36.802615Z"
    }
   },
   "outputs": [],
   "source": [
    "a = a_full.float()\n",
    "b = b_full.float()"
   ]
  },
  {
   "cell_type": "markdown",
   "id": "f98e32ee-5642-4cbd-aa15-15a4e2ac41c7",
   "metadata": {},
   "source": [
    "### tf32 disabled"
   ]
  },
  {
   "cell_type": "code",
   "execution_count": 7,
   "id": "84d84d78-e971-4e51-a3b2-e64b055b1071",
   "metadata": {
    "execution": {
     "iopub.execute_input": "2024-06-08T03:32:36.814224Z",
     "iopub.status.busy": "2024-06-08T03:32:36.814011Z",
     "iopub.status.idle": "2024-06-08T03:32:36.822252Z",
     "shell.execute_reply": "2024-06-08T03:32:36.821420Z",
     "shell.execute_reply.started": "2024-06-08T03:32:36.814203Z"
    }
   },
   "outputs": [],
   "source": [
    "# Do matmul with TF32 disabled.\n",
    "torch.backends.cuda.matmul.allow_tf32 = False\n",
    "ab_fp32 = a @ b "
   ]
  },
  {
   "cell_type": "code",
   "execution_count": 8,
   "id": "2209506a-b17a-434f-9dde-49c988c4d4f7",
   "metadata": {
    "execution": {
     "iopub.execute_input": "2024-06-08T03:32:36.822974Z",
     "iopub.status.busy": "2024-06-08T03:32:36.822797Z",
     "iopub.status.idle": "2024-06-08T03:32:36.867005Z",
     "shell.execute_reply": "2024-06-08T03:32:36.866227Z",
     "shell.execute_reply.started": "2024-06-08T03:32:36.822960Z"
    }
   },
   "outputs": [
    {
     "data": {
      "text/plain": [
       "(tensor(0.0028, device='cuda:0', dtype=torch.float64),\n",
       " tensor(3.4570e-05, device='cuda:0', dtype=torch.float64))"
      ]
     },
     "execution_count": 8,
     "metadata": {},
     "output_type": "execute_result"
    }
   ],
   "source": [
    "error = (ab_fp32 - ab_full).abs().max()  # 0.0031\n",
    "relative_error = error / mean  # 0.000039\n",
    "error, relative_error"
   ]
  },
  {
   "cell_type": "markdown",
   "id": "b05c8942-ddb7-4f80-a6a7-5f33ca1d7edc",
   "metadata": {},
   "source": [
    "### tf32 abled"
   ]
  },
  {
   "cell_type": "code",
   "execution_count": 9,
   "id": "3914fe2a-0386-4802-91ae-a3a460c39ae3",
   "metadata": {
    "execution": {
     "iopub.execute_input": "2024-06-08T03:32:36.867707Z",
     "iopub.status.busy": "2024-06-08T03:32:36.867568Z",
     "iopub.status.idle": "2024-06-08T03:32:36.886614Z",
     "shell.execute_reply": "2024-06-08T03:32:36.885847Z",
     "shell.execute_reply.started": "2024-06-08T03:32:36.867692Z"
    }
   },
   "outputs": [],
   "source": [
    "torch.backends.cuda.matmul.allow_tf32 = True\n",
    "ab_tf32 = a @ b "
   ]
  },
  {
   "cell_type": "code",
   "execution_count": 10,
   "id": "6fe1a829-bacc-4ac7-b905-599ce5248645",
   "metadata": {
    "execution": {
     "iopub.execute_input": "2024-06-08T03:32:36.887269Z",
     "iopub.status.busy": "2024-06-08T03:32:36.887132Z",
     "iopub.status.idle": "2024-06-08T03:32:36.919925Z",
     "shell.execute_reply": "2024-06-08T03:32:36.919162Z",
     "shell.execute_reply.started": "2024-06-08T03:32:36.887258Z"
    }
   },
   "outputs": [
    {
     "data": {
      "text/plain": [
       "(tensor(0.1793, device='cuda:0', dtype=torch.float64),\n",
       " tensor(0.0022, device='cuda:0', dtype=torch.float64))"
      ]
     },
     "execution_count": 10,
     "metadata": {},
     "output_type": "execute_result"
    }
   ],
   "source": [
    "error = (ab_tf32 - ab_full).abs().max() \n",
    "relative_error = error / mean \n",
    "error, relative_error"
   ]
  },
  {
   "cell_type": "code",
   "execution_count": null,
   "id": "819578ed-d125-457e-9911-1925083e8140",
   "metadata": {},
   "outputs": [],
   "source": []
  }
 ],
 "metadata": {
  "kernelspec": {
   "display_name": "Python 3 (ipykernel)",
   "language": "python",
   "name": "python3"
  },
  "language_info": {
   "codemirror_mode": {
    "name": "ipython",
    "version": 3
   },
   "file_extension": ".py",
   "mimetype": "text/x-python",
   "name": "python",
   "nbconvert_exporter": "python",
   "pygments_lexer": "ipython3",
   "version": "3.10.13"
  }
 },
 "nbformat": 4,
 "nbformat_minor": 5
}
