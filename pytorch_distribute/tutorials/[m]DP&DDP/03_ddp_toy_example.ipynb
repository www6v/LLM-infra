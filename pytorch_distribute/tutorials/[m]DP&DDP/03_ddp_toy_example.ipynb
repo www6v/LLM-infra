{
 "cells": [
  {
   "cell_type": "code",
   "execution_count": 1,
   "id": "210ec12d",
   "metadata": {
    "ExecuteTime": {
     "end_time": "2023-06-04T10:55:09.895701Z",
     "start_time": "2023-06-04T10:55:08.563709Z"
    }
   },
   "outputs": [],
   "source": [
    "import os\n",
    "import torch\n",
    "import torch.nn.functional as F\n",
    "from torch.utils.data import Dataset, DataLoader"
   ]
  },
  {
   "cell_type": "code",
   "execution_count": 2,
   "id": "06f5263a",
   "metadata": {
    "ExecuteTime": {
     "end_time": "2023-06-04T10:55:10.848917Z",
     "start_time": "2023-06-04T10:55:10.845750Z"
    }
   },
   "outputs": [],
   "source": [
    "import torch.multiprocessing as mp\n",
    "from torch.utils.data.distributed import DistributedSampler\n",
    "from torch.nn.parallel import DistributedDataParallel as DDP\n",
    "from torch.distributed import init_process_group, destroy_process_group"
   ]
  },
  {
   "cell_type": "markdown",
   "id": "a9d74e7d",
   "metadata": {},
   "source": [
    "## basics"
   ]
  },
  {
   "cell_type": "markdown",
   "id": "ca0ed54b",
   "metadata": {},
   "source": [
    "- All to one：reduce； one to All：broadcast\n",
    "- rank：`[0, world_size-1]`"
   ]
  },
  {
   "cell_type": "markdown",
   "id": "03e2a7c2",
   "metadata": {},
   "source": [
    "## ddp setup"
   ]
  },
  {
   "cell_type": "code",
   "execution_count": 4,
   "id": "4d3d4479",
   "metadata": {
    "ExecuteTime": {
     "end_time": "2023-06-04T10:59:38.608938Z",
     "start_time": "2023-06-04T10:59:38.581744Z"
    }
   },
   "outputs": [
    {
     "data": {
      "text/plain": [
       "2"
      ]
     },
     "execution_count": 4,
     "metadata": {},
     "output_type": "execute_result"
    }
   ],
   "source": [
    "world_size = torch.cuda.device_count()\n",
    "world_size"
   ]
  },
  {
   "cell_type": "code",
   "execution_count": 3,
   "id": "6c837dff",
   "metadata": {
    "ExecuteTime": {
     "end_time": "2023-06-04T10:58:09.194087Z",
     "start_time": "2023-06-04T10:58:09.184776Z"
    }
   },
   "outputs": [],
   "source": [
    "def ddp_setup(rank, world_size):\n",
    "    \"\"\"\n",
    "    Args:\n",
    "        rank: Unique identifier of each process\n",
    "        world_size: Total number of processes\n",
    "    \"\"\"\n",
    "    # rank 0 process\n",
    "    os.environ[\"MASTER_ADDR\"] = \"localhost\"\n",
    "    os.environ[\"MASTER_PORT\"] = \"12355\"\n",
    "    # nccl：NVIDIA Collective Communication Library \n",
    "    # 分布式情况下的，gpus 间通信\n",
    "    init_process_group(backend=\"nccl\", rank=rank, world_size=world_size)\n",
    "    torch.cuda.set_device(rank)"
   ]
  },
  {
   "cell_type": "markdown",
   "id": "40cf989e",
   "metadata": {},
   "source": [
    "## custom Trainer（自定义 trainer）"
   ]
  },
  {
   "cell_type": "code",
   "execution_count": 5,
   "id": "8bafbc8e",
   "metadata": {
    "ExecuteTime": {
     "end_time": "2023-06-04T11:01:42.731715Z",
     "start_time": "2023-06-04T11:01:42.715204Z"
    }
   },
   "outputs": [],
   "source": [
    "class Trainer:\n",
    "    def __init__(self, \n",
    "                 model: torch.nn.Module, \n",
    "                 train_dataloader: DataLoader, \n",
    "                 optimizer: torch.optim.Optimizer, \n",
    "                 gpu_id: int) -> None:\n",
    "        # rank\n",
    "        self.gpu_id = gpu_id\n",
    "        self.model = model.to(gpu_id)\n",
    "        self.train_dataloader = train_dataloader\n",
    "        self.optimizer = optimizer\n",
    "        self.model = DDP(model, device_ids=[gpu_id])\n",
    "    \n",
    "    def _run_batch(self, xs, ys):\n",
    "        self.optimizer.zero_grad()\n",
    "        output = self.model(xs)\n",
    "        loss = F.cross_entropy(output, ys)\n",
    "        loss.backward()\n",
    "        self.optimizer.step()\n",
    "    \n",
    "    def _run_epoch(self, epoch):\n",
    "        batch_size = len(next(iter(self.train_dataloader))[0])\n",
    "        print(f'[GPU: {self.gpu_id}] Epoch: {epoch} | Batchsize: {batch_size} | Steps: {len(self.train_dataloader)}')\n",
    "        self.train_dataloader.sampler.set_epoch(epoch)\n",
    "        for xs, ys in self.train_dataloader:\n",
    "            xs = xs.to(self.gpu_id)\n",
    "            ys = ys.to(self.gpu_id)\n",
    "            self._run_batch(xs, ys)\n",
    "    \n",
    "    def train(self, max_epoch: int):\n",
    "        for epoch in range(max_epoch):\n",
    "            self._run_epoch(epoch)"
   ]
  },
  {
   "cell_type": "markdown",
   "id": "84825fd6",
   "metadata": {},
   "source": [
    "## pipeline"
   ]
  },
  {
   "cell_type": "code",
   "execution_count": 6,
   "id": "b5d08c60",
   "metadata": {
    "ExecuteTime": {
     "end_time": "2023-06-04T11:01:46.437156Z",
     "start_time": "2023-06-04T11:01:46.428233Z"
    }
   },
   "outputs": [],
   "source": [
    "class MyTrainDataset(Dataset):\n",
    "    def __init__(self, size):\n",
    "        self.size = size\n",
    "        self.data = [(torch.rand(20), torch.rand(1)) for _ in range(size)]\n",
    "\n",
    "    def __len__(self):\n",
    "        return self.size\n",
    "    \n",
    "    def __getitem__(self, index):\n",
    "        return self.data[index]"
   ]
  },
  {
   "cell_type": "code",
   "execution_count": 7,
   "id": "09327fdb",
   "metadata": {
    "ExecuteTime": {
     "end_time": "2023-06-04T11:01:57.264942Z",
     "start_time": "2023-06-04T11:01:57.194324Z"
    }
   },
   "outputs": [],
   "source": [
    "train_dataset = MyTrainDataset(2048)"
   ]
  },
  {
   "cell_type": "code",
   "execution_count": 8,
   "id": "c4df0663",
   "metadata": {
    "ExecuteTime": {
     "end_time": "2023-06-04T11:01:58.724641Z",
     "start_time": "2023-06-04T11:01:58.711266Z"
    }
   },
   "outputs": [
    {
     "data": {
      "text/plain": [
       "(tensor([0.4790, 0.5080, 0.1934, 0.5247, 0.6372, 0.9930, 0.2379, 0.9182, 0.3659,\n",
       "         0.8408, 0.2347, 0.1770, 0.8691, 0.2810, 0.2156, 0.8289, 0.9372, 0.6358,\n",
       "         0.4338, 0.2754]),\n",
       " tensor([0.6307]))"
      ]
     },
     "execution_count": 8,
     "metadata": {},
     "output_type": "execute_result"
    }
   ],
   "source": [
    "train_dataset[0]"
   ]
  },
  {
   "cell_type": "code",
   "execution_count": null,
   "id": "e289bb7c",
   "metadata": {
    "ExecuteTime": {
     "end_time": "2023-06-04T08:50:37.063917Z",
     "start_time": "2023-06-04T08:50:37.052219Z"
    }
   },
   "outputs": [],
   "source": [
    "def main(rank: int, world_size: int, max_epochs: int, batch_size: int):\n",
    "    ddp_setup(rank, world_size)\n",
    "    \n",
    "    train_dataset = MyTrainDataset(2048)\n",
    "    train_dataloader = DataLoader(train_dataset, \n",
    "                              batch_size=batch_size, \n",
    "                              pin_memory=True, \n",
    "                              shuffle=False, \n",
    "                              # batch input: split to each gpus (且没有任何 overlaping samples 各个 gpu 之间)\n",
    "                              sampler=DistributedSampler(train_dataset))\n",
    "    model = torch.nn.Linear(20, 1)\n",
    "    optimzer = torch.optim.SGD(model.parameters(), lr=1e-3)\n",
    "    \n",
    "    trainer = Trainer(model=model, gpu_id=rank, optimizer=optimzer, train_dataloader=train_dataloader)\n",
    "    trainer.train(max_epochs)\n",
    "    \n",
    "    destroy_process_group()"
   ]
  },
  {
   "cell_type": "markdown",
   "id": "d812836b",
   "metadata": {},
   "source": [
    "## 分布式 training"
   ]
  },
  {
   "cell_type": "code",
   "execution_count": 9,
   "id": "13a0af9e",
   "metadata": {
    "ExecuteTime": {
     "end_time": "2023-06-04T11:03:36.417900Z",
     "start_time": "2023-06-04T11:03:36.406164Z"
    }
   },
   "outputs": [
    {
     "data": {
      "text/plain": [
       "2"
      ]
     },
     "execution_count": 9,
     "metadata": {},
     "output_type": "execute_result"
    }
   ],
   "source": [
    "world_size = torch.cuda.device_count()\n",
    "world_size"
   ]
  },
  {
   "cell_type": "code",
   "execution_count": 11,
   "id": "b7ce2f2c",
   "metadata": {
    "ExecuteTime": {
     "end_time": "2023-06-04T11:05:47.640962Z",
     "start_time": "2023-06-04T11:05:47.629836Z"
    }
   },
   "outputs": [
    {
     "data": {
      "text/plain": [
       "64.0"
      ]
     },
     "execution_count": 11,
     "metadata": {},
     "output_type": "execute_result"
    }
   ],
   "source": [
    "2048/32"
   ]
  },
  {
   "cell_type": "code",
   "execution_count": 13,
   "id": "07f5d26f",
   "metadata": {
    "ExecuteTime": {
     "end_time": "2023-06-04T11:06:11.807967Z",
     "start_time": "2023-06-04T11:06:11.798677Z"
    }
   },
   "outputs": [
    {
     "data": {
      "text/plain": [
       "2048"
      ]
     },
     "execution_count": 13,
     "metadata": {},
     "output_type": "execute_result"
    }
   ],
   "source": [
    "(32*32) * 2"
   ]
  },
  {
   "cell_type": "code",
   "execution_count": 10,
   "id": "4060e860",
   "metadata": {
    "ExecuteTime": {
     "end_time": "2023-06-04T11:04:53.291460Z",
     "start_time": "2023-06-04T11:04:47.225247Z"
    }
   },
   "outputs": [
    {
     "name": "stdout",
     "output_type": "stream",
     "text": [
      "[GPU: 0] Epoch: 0 | Batchsize: 32 | Steps: 32\n",
      "[GPU: 1] Epoch: 0 | Batchsize: 32 | Steps: 32\n",
      "[GPU: 0] Epoch: 1 | Batchsize: 32 | Steps: 32\n",
      "[GPU: 1] Epoch: 1 | Batchsize: 32 | Steps: 32\n",
      "[GPU: 0] Epoch: 2 | Batchsize: 32 | Steps: 32\n",
      "[GPU: 1] Epoch: 2 | Batchsize: 32 | Steps: 32\n",
      "[GPU: 1] Epoch: 3 | Batchsize: 32 | Steps: 32\n",
      "[GPU: 0] Epoch: 3 | Batchsize: 32 | Steps: 32\n",
      "[GPU: 0] Epoch: 4 | Batchsize: 32 | Steps: 32\n",
      "[GPU: 1] Epoch: 4 | Batchsize: 32 | Steps: 32\n"
     ]
    }
   ],
   "source": [
    "# mp.spawn(main, args=(world_size, 10, 32), nprocs=world_size)\n",
    "!python ddp_gpus.py --max_epochs 5 --batch_size 32 "
   ]
  },
  {
   "cell_type": "markdown",
   "id": "2a715ec3",
   "metadata": {},
   "source": [
    "## torchrun 运行"
   ]
  },
  {
   "cell_type": "markdown",
   "id": "40b89bf1",
   "metadata": {},
   "source": [
    "- https://pytorch.org/docs/stable/elastic/run.html\n",
    "- fault-tolerant \n",
    "- `torchrun`\n",
    "    - Worker RANK and WORLD_SIZE are assigned automatically.\n",
    "    - `python -m torch.distributed.launch --use-env`"
   ]
  },
  {
   "cell_type": "code",
   "execution_count": 14,
   "id": "38ffe4f6",
   "metadata": {
    "ExecuteTime": {
     "end_time": "2023-06-04T11:08:45.152191Z",
     "start_time": "2023-06-04T11:08:38.428001Z"
    }
   },
   "outputs": [
    {
     "name": "stdout",
     "output_type": "stream",
     "text": [
      "[GPU: 0] Epoch: 0 | Batchsize: 32 | Steps: 64\n",
      "[GPU: 0] Epoch: 1 | Batchsize: 32 | Steps: 64\n",
      "[GPU: 0] Epoch: 2 | Batchsize: 32 | Steps: 64\n",
      "[GPU: 0] Epoch: 3 | Batchsize: 32 | Steps: 64\n",
      "[GPU: 0] Epoch: 4 | Batchsize: 32 | Steps: 64\n"
     ]
    }
   ],
   "source": [
    "!torchrun ddp_gpus_torchrun.py --max_epochs 5 --batch_size 32"
   ]
  },
  {
   "cell_type": "code",
   "execution_count": 15,
   "id": "3b68d1b7",
   "metadata": {
    "ExecuteTime": {
     "end_time": "2023-06-04T11:09:06.423777Z",
     "start_time": "2023-06-04T11:08:59.674336Z"
    },
    "scrolled": false
   },
   "outputs": [
    {
     "name": "stdout",
     "output_type": "stream",
     "text": [
      "WARNING:torch.distributed.run:\n",
      "*****************************************\n",
      "Setting OMP_NUM_THREADS environment variable for each process to be 1 in default, to avoid your system being overloaded, please further tune the variable for optimal performance in your application as needed. \n",
      "*****************************************\n",
      "[GPU: 0] Epoch: 0 | Batchsize: 32 | Steps: 32\n",
      "[GPU: 1] Epoch: 0 | Batchsize: 32 | Steps: 32\n",
      "[GPU: 0] Epoch: 1 | Batchsize: 32 | Steps: 32[GPU: 1] Epoch: 1 | Batchsize: 32 | Steps: 32\n",
      "\n",
      "[GPU: 0] Epoch: 2 | Batchsize: 32 | Steps: 32\n",
      "[GPU: 1] Epoch: 2 | Batchsize: 32 | Steps: 32\n",
      "[GPU: 1] Epoch: 3 | Batchsize: 32 | Steps: 32\n",
      "[GPU: 0] Epoch: 3 | Batchsize: 32 | Steps: 32\n",
      "[GPU: 1] Epoch: 4 | Batchsize: 32 | Steps: 32\n",
      "[GPU: 0] Epoch: 4 | Batchsize: 32 | Steps: 32\n"
     ]
    }
   ],
   "source": [
    "!torchrun --nproc-per-node=2 ddp_gpus_torchrun.py --max_epochs 5 --batch_size 32"
   ]
  },
  {
   "cell_type": "code",
   "execution_count": 16,
   "id": "5e08158e",
   "metadata": {
    "ExecuteTime": {
     "end_time": "2023-06-04T11:09:43.695387Z",
     "start_time": "2023-06-04T11:09:37.052267Z"
    }
   },
   "outputs": [
    {
     "name": "stdout",
     "output_type": "stream",
     "text": [
      "/home/whaow/anaconda3/lib/python3.10/site-packages/torch/distributed/launch.py:181: FutureWarning: The module torch.distributed.launch is deprecated\n",
      "and will be removed in future. Use torchrun.\n",
      "Note that --use-env is set by default in torchrun.\n",
      "If your script expects `--local-rank` argument to be set, please\n",
      "change it to read from `os.environ['LOCAL_RANK']` instead. See \n",
      "https://pytorch.org/docs/stable/distributed.html#launch-utility for \n",
      "further instructions\n",
      "\n",
      "  warnings.warn(\n",
      "WARNING:torch.distributed.run:\n",
      "*****************************************\n",
      "Setting OMP_NUM_THREADS environment variable for each process to be 1 in default, to avoid your system being overloaded, please further tune the variable for optimal performance in your application as needed. \n",
      "*****************************************\n",
      "[GPU: 0] Epoch: 0 | Batchsize: 32 | Steps: 32[GPU: 1] Epoch: 0 | Batchsize: 32 | Steps: 32\n",
      "\n",
      "[GPU: 0] Epoch: 1 | Batchsize: 32 | Steps: 32\n",
      "[GPU: 1] Epoch: 1 | Batchsize: 32 | Steps: 32\n",
      "[GPU: 0] Epoch: 2 | Batchsize: 32 | Steps: 32\n",
      "[GPU: 1] Epoch: 2 | Batchsize: 32 | Steps: 32\n",
      "[GPU: 0] Epoch: 3 | Batchsize: 32 | Steps: 32\n",
      "[GPU: 1] Epoch: 3 | Batchsize: 32 | Steps: 32\n",
      "[GPU: 0] Epoch: 4 | Batchsize: 32 | Steps: 32\n",
      "[GPU: 1] Epoch: 4 | Batchsize: 32 | Steps: 32\n"
     ]
    }
   ],
   "source": [
    "!python -m torch.distributed.launch --use-env --nproc-per-node=2 ddp_gpus_torchrun.py --max_epochs 5 --batch_size 32"
   ]
  }
 ],
 "metadata": {
  "kernelspec": {
   "display_name": "Python 3 (ipykernel)",
   "language": "python",
   "name": "python3"
  },
  "language_info": {
   "codemirror_mode": {
    "name": "ipython",
    "version": 3
   },
   "file_extension": ".py",
   "mimetype": "text/x-python",
   "name": "python",
   "nbconvert_exporter": "python",
   "pygments_lexer": "ipython3",
   "version": "3.10.9"
  },
  "toc": {
   "base_numbering": 1,
   "nav_menu": {},
   "number_sections": true,
   "sideBar": true,
   "skip_h1_title": false,
   "title_cell": "Table of Contents",
   "title_sidebar": "Contents",
   "toc_cell": false,
   "toc_position": {
    "height": "calc(100% - 180px)",
    "left": "10px",
    "top": "150px",
    "width": "246px"
   },
   "toc_section_display": true,
   "toc_window_display": true
  }
 },
 "nbformat": 4,
 "nbformat_minor": 5
}
