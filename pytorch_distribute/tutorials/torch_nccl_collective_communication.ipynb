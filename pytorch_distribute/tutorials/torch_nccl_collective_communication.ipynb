{
 "cells": [
  {
   "cell_type": "markdown",
   "id": "9468bb10",
   "metadata": {},
   "source": [
    "- https://docs.nvidia.com/deeplearning/nccl/user-guide/docs/usage/operations.html\n",
    "- https://www.cnblogs.com/bytehandler/p/17635933.html"
   ]
  },
  {
   "cell_type": "markdown",
   "id": "b620078f",
   "metadata": {},
   "source": [
    "- `export NCCL_P2P_DISABLE=1`：disable direct GPU-to-GPU (P2P) communication.\n",
    "    - 禁用点对点通信，点对点通信是一种高效的数据传输方式，允许直接在 GPU 之间传输数据，绕过主机内存（CPU 内存）。但在某些情况下，点对点通信可能会导致兼容性或性能问题。\n",
    "    - Using RTX 4000 series which doesn't support faster communication speedups. Ensuring P2P and IB communications are disabled."
   ]
  },
  {
   "cell_type": "code",
   "execution_count": 1,
   "id": "fdc6a9c4",
   "metadata": {
    "ExecuteTime": {
     "end_time": "2024-02-24T02:29:49.967935Z",
     "start_time": "2024-02-24T02:29:49.952881Z"
    }
   },
   "outputs": [],
   "source": [
    "from IPython.display import Image"
   ]
  },
  {
   "cell_type": "markdown",
   "id": "1fa6a933",
   "metadata": {},
   "source": [
    "## pytorch 分布式相关api"
   ]
  },
  {
   "cell_type": "markdown",
   "id": "f94143b9",
   "metadata": {},
   "source": [
    "- `torch.distributed.init_process_group()` ，初始化进程组。\n",
    "- `torch.distributed.get_rank()`，可以获得当前进程的 rank；\n",
    "- `torch.distributed.get_world_size()`，可以获得进程组的进程数量。\n",
    "- `torch.distributed.barrier()`，同步进程组内的所有进程，阻塞所有进程直到所有进程都执行到操作。"
   ]
  },
  {
   "cell_type": "markdown",
   "id": "82de9501",
   "metadata": {},
   "source": [
    "## 集合通信"
   ]
  },
  {
   "cell_type": "markdown",
   "id": "8de7b0c5",
   "metadata": {},
   "source": [
    "NCCL支持集合通信操作（Collective Operations）：\n",
    "\n",
    "- `Broadcast`，进程组内的一个进程将Tensor广播给其他进程。\n",
    "- `AllReduce`，进程组内所有进程进行规约操作，最终所有进程得到统一的Tensor。\n",
    "- `ReduceScatter`，进程组内所有进程先进行reduce操作，再进行scatter操作，每个进程得到Tensor的一部分。\n",
    "- `AllGather`，进程组内所有进程的Tensor聚合成一个Tensor列表，并且最终所有进程都有一个Tensor列表副本。"
   ]
  },
  {
   "cell_type": "markdown",
   "id": "0ebfc646",
   "metadata": {},
   "source": [
    "```\n",
    "torchrun --nproc_per_node 2 --nnodes 1 torch_nccl_test.py\n",
    "# deepspeed --num_gpus 2 --num_nodes 1 torch_nccl_test.py  \n",
    "```"
   ]
  },
  {
   "cell_type": "markdown",
   "id": "142ba99d",
   "metadata": {},
   "source": [
    "### scatter"
   ]
  },
  {
   "cell_type": "code",
   "execution_count": 10,
   "id": "dc30af63",
   "metadata": {
    "ExecuteTime": {
     "end_time": "2024-02-24T03:37:12.988127Z",
     "start_time": "2024-02-24T03:37:12.977325Z"
    }
   },
   "outputs": [
    {
     "data": {
      "text/html": [
       "<img src=\"https://pytorch.org/tutorials/_images/scatter.png\" width=\"400\"/>"
      ],
      "text/plain": [
       "<IPython.core.display.Image object>"
      ]
     },
     "execution_count": 10,
     "metadata": {},
     "output_type": "execute_result"
    }
   ],
   "source": [
    "Image(url='https://pytorch.org/tutorials/_images/scatter.png', width=400)"
   ]
  },
  {
   "cell_type": "markdown",
   "id": "2f83f27b",
   "metadata": {},
   "source": [
    "```\n",
    "def dist_scatter():\n",
    "    dist.barrier()\n",
    "\n",
    "    rank = dist.get_rank()\n",
    "    world_size = dist.get_world_size()\n",
    "\n",
    "    tensor = torch.zeros(world_size)\n",
    "    before_tensor = tensor.clone()\n",
    "    if dist.get_rank() == 0:\n",
    "        # Assumes world_size of 2.\n",
    "        # Only tensors, all of which must be the same size.\n",
    "        t_ones = torch.ones(world_size)\n",
    "        t_fives = torch.ones(world_size) * 5\n",
    "        scatter_list = [t_ones, t_fives]\n",
    "    else:\n",
    "        scatter_list = None\n",
    "    dist.scatter(tensor, scatter_list, src=0)\n",
    "    logging.info(f\"scatter, rank: {rank}, before scatter: {repr(before_tensor)} after scatter: {repr(tensor)}\")\n",
    "    dist.barrier()\n",
    "```"
   ]
  },
  {
   "cell_type": "markdown",
   "id": "a4ce4957",
   "metadata": {},
   "source": [
    "### gather"
   ]
  },
  {
   "cell_type": "code",
   "execution_count": 3,
   "id": "b9015e6f",
   "metadata": {
    "ExecuteTime": {
     "end_time": "2024-02-24T02:30:17.471410Z",
     "start_time": "2024-02-24T02:30:17.463396Z"
    },
    "scrolled": true
   },
   "outputs": [
    {
     "data": {
      "text/html": [
       "<img src=\"https://pytorch.org/tutorials/_images/gather.png\" width=\"400\"/>"
      ],
      "text/plain": [
       "<IPython.core.display.Image object>"
      ]
     },
     "execution_count": 3,
     "metadata": {},
     "output_type": "execute_result"
    }
   ],
   "source": [
    "Image(url='https://pytorch.org/tutorials/_images/gather.png', width=400)"
   ]
  },
  {
   "cell_type": "markdown",
   "id": "e73008a6",
   "metadata": {},
   "source": [
    "```\n",
    "def dist_gather():\n",
    "    dist.barrier()\n",
    "\n",
    "    rank = dist.get_rank()\n",
    "    world_size = dist.get_world_size()\n",
    "\n",
    "    tensor = torch.tensor([rank*2+1], dtype=torch.float32)\n",
    "    before_tensor = tensor.clone()\n",
    "    \n",
    "    gather_list = [torch.zeros(1) for _ in range(world_size)] if rank == 0 else None\n",
    "\n",
    "    dist.gather(tensor, gather_list, dst=0)\n",
    "    \n",
    "    logging.info(f\"gather, rank: {rank}, before gather: {repr(before_tensor)} after gather: {repr(gather_list)}\")\n",
    "    dist.barrier()\n",
    "```"
   ]
  },
  {
   "cell_type": "markdown",
   "id": "f5a859f4",
   "metadata": {},
   "source": [
    "### broadcast"
   ]
  },
  {
   "cell_type": "code",
   "execution_count": 5,
   "id": "33c548f7",
   "metadata": {
    "ExecuteTime": {
     "end_time": "2024-02-24T03:22:17.045135Z",
     "start_time": "2024-02-24T03:22:17.033897Z"
    },
    "scrolled": true
   },
   "outputs": [
    {
     "data": {
      "text/html": [
       "<img src=\"https://pytorch.org/tutorials/_images/broadcast.png\" width=\"400\"/>"
      ],
      "text/plain": [
       "<IPython.core.display.Image object>"
      ]
     },
     "execution_count": 5,
     "metadata": {},
     "output_type": "execute_result"
    }
   ],
   "source": [
    "Image(url='https://pytorch.org/tutorials/_images/broadcast.png', width=400)"
   ]
  },
  {
   "cell_type": "markdown",
   "id": "2133b659",
   "metadata": {},
   "source": [
    "```\n",
    "def dist_broadcast():\n",
    "    dist.barrier()\n",
    "\n",
    "    rank = dist.get_rank()\n",
    "    world_size = dist.get_world_size()\n",
    "\n",
    "    src_rank = 0\n",
    "    tensor = torch.tensor(world_size) if rank == src_rank else torch.zeros(1, dtype=torch.int64)\n",
    "    before_tensor = tensor.clone()\n",
    "    dist.broadcast(tensor, src=src_rank)\n",
    "    logging.info(f\"broadcast, rank: {rank}, before broadcast tensor: {repr(before_tensor)} after broadcast tensor: {repr(tensor)}\")\n",
    "    dist.barrier()\n",
    "```"
   ]
  },
  {
   "cell_type": "markdown",
   "id": "53929bd0",
   "metadata": {},
   "source": [
    "### reduce"
   ]
  },
  {
   "cell_type": "code",
   "execution_count": 6,
   "id": "df144e60",
   "metadata": {
    "ExecuteTime": {
     "end_time": "2024-02-24T03:27:49.065384Z",
     "start_time": "2024-02-24T03:27:49.055947Z"
    }
   },
   "outputs": [
    {
     "data": {
      "text/html": [
       "<img src=\"https://pytorch.org/tutorials/_images/reduce.png\" width=\"400\"/>"
      ],
      "text/plain": [
       "<IPython.core.display.Image object>"
      ]
     },
     "execution_count": 6,
     "metadata": {},
     "output_type": "execute_result"
    }
   ],
   "source": [
    "Image(url='https://pytorch.org/tutorials/_images/reduce.png', width=400)"
   ]
  },
  {
   "cell_type": "markdown",
   "id": "485768c1",
   "metadata": {},
   "source": [
    "- `def reduce(tensor, dst, op=ReduceOp.SUM, group=None, async_op=False):`\n",
    "    - 默认的 reduce 操作是 SUM\n",
    "\n",
    "```\n",
    "def dist_reduce():\n",
    "    dist.barrier()\n",
    "\n",
    "    rank = dist.get_rank()\n",
    "    world_size = dist.get_world_size()\n",
    "\n",
    "    tensor = torch.tensor([rank*2 + 1], dtype=torch.float32)\n",
    "    before_tensor = tensor.clone()\n",
    "\n",
    "    dist.reduce(tensor, op=ReduceOp.SUM, dst=0)\n",
    "    \n",
    "    logging.info(f\"reduce, rank: {rank}, before reduce: {repr(before_tensor)} after reduce: {repr(tensor)}\")\n",
    "    dist.barrier()\n",
    "```"
   ]
  },
  {
   "cell_type": "markdown",
   "id": "a17e8f36",
   "metadata": {},
   "source": [
    "### all-reduce"
   ]
  },
  {
   "cell_type": "code",
   "execution_count": 7,
   "id": "66c826f9",
   "metadata": {
    "ExecuteTime": {
     "end_time": "2024-02-24T03:29:37.739845Z",
     "start_time": "2024-02-24T03:29:37.728936Z"
    }
   },
   "outputs": [
    {
     "data": {
      "text/html": [
       "<img src=\"https://pytorch.org/tutorials/_images/all_reduce.png\" width=\"400\"/>"
      ],
      "text/plain": [
       "<IPython.core.display.Image object>"
      ]
     },
     "execution_count": 7,
     "metadata": {},
     "output_type": "execute_result"
    }
   ],
   "source": [
    "Image(url='https://pytorch.org/tutorials/_images/all_reduce.png', width=400)"
   ]
  },
  {
   "cell_type": "markdown",
   "id": "88460f58",
   "metadata": {},
   "source": [
    "- reduce + broadcast\n",
    "\n",
    "```\n",
    "def dist_allreduce():\n",
    "    dist.barrier()\n",
    "\n",
    "    rank = dist.get_rank()\n",
    "    # world_size = torch.distributed.get_world_size()\n",
    "\n",
    "    if rank == 0:\n",
    "        tensor = torch.tensor([1., 2.])\n",
    "    else:\n",
    "        tensor = torch.tensor([2., 3.])\n",
    "    input_tensor = tensor.clone()\n",
    "    dist.all_reduce(tensor)\n",
    "\n",
    "    logging.info(f\"all_reduce, rank: {rank}, before allreduce tensor: {repr(input_tensor)}, after allreduce tensor: {repr(tensor)}\")\n",
    "    dist.barrier()\n",
    "```"
   ]
  },
  {
   "cell_type": "markdown",
   "id": "cfe9a2a8",
   "metadata": {},
   "source": [
    "### all gather"
   ]
  },
  {
   "cell_type": "code",
   "execution_count": 8,
   "id": "d1e9bd77",
   "metadata": {
    "ExecuteTime": {
     "end_time": "2024-02-24T03:31:45.820932Z",
     "start_time": "2024-02-24T03:31:45.810483Z"
    },
    "scrolled": false
   },
   "outputs": [
    {
     "data": {
      "text/html": [
       "<img src=\"https://pytorch.org/tutorials/_images/all_gather.png\" width=\"400\"/>"
      ],
      "text/plain": [
       "<IPython.core.display.Image object>"
      ]
     },
     "execution_count": 8,
     "metadata": {},
     "output_type": "execute_result"
    }
   ],
   "source": [
    "Image(url='https://pytorch.org/tutorials/_images/all_gather.png', width=400)"
   ]
  },
  {
   "cell_type": "markdown",
   "id": "15b42e0a",
   "metadata": {},
   "source": [
    "- gather + broadcast"
   ]
  },
  {
   "cell_type": "markdown",
   "id": "4b9c7ba4",
   "metadata": {},
   "source": [
    "```\n",
    "def dist_allgather():\n",
    "    print_rank_0(\"allgather:\")\n",
    "    dist.barrier()\n",
    "\n",
    "    rank = dist.get_rank()\n",
    "    world_size = dist.get_world_size()\n",
    "\n",
    "    input_tensor = torch.tensor(rank)\n",
    "    tensor_list = [torch.zeros(1, dtype=torch.int64) for _ in range(world_size)]\n",
    "    dist.all_gather(tensor_list, input_tensor)\n",
    "    logging.info(f\"allgather, rank: {rank}, input_tensor: {repr(input_tensor)}, output tensor_list: {tensor_list}\")\n",
    "    dist.barrier()\n",
    "```"
   ]
  },
  {
   "cell_type": "markdown",
   "id": "b03a40f4",
   "metadata": {},
   "source": [
    "### reduce-scatter"
   ]
  },
  {
   "cell_type": "code",
   "execution_count": 9,
   "id": "35f8f79d",
   "metadata": {
    "ExecuteTime": {
     "end_time": "2024-02-24T03:34:22.894968Z",
     "start_time": "2024-02-24T03:34:22.885114Z"
    },
    "scrolled": true
   },
   "outputs": [
    {
     "data": {
      "text/html": [
       "<img src=\"https://docs.nvidia.com/deeplearning/nccl/user-guide/docs/_images/reducescatter.png\" width=\"400\"/>"
      ],
      "text/plain": [
       "<IPython.core.display.Image object>"
      ]
     },
     "execution_count": 9,
     "metadata": {},
     "output_type": "execute_result"
    }
   ],
   "source": [
    "Image(url='https://docs.nvidia.com/deeplearning/nccl/user-guide/docs/_images/reducescatter.png', width=400)"
   ]
  },
  {
   "cell_type": "markdown",
   "id": "4d042207",
   "metadata": {},
   "source": [
    "- 先 reduce + 再 scatter\n",
    "\n",
    "```\n",
    "def dist_reducescatter():\n",
    "    dist.barrier()\n",
    "\n",
    "    rank = dist.get_rank()\n",
    "    world_size = dist.get_world_size()\n",
    "\n",
    "    output = torch.empty(1, dtype=torch.int64)\n",
    "    input_list = [torch.tensor(rank*2+1), torch.tensor(rank*2+2)]\n",
    "    dist.reduce_scatter(output, input_list, op=ReduceOp.SUM)\n",
    "    dist.barrier()\n",
    "    logging.info(f\"reduce_scatter, rank: {rank}, input_list: {input_list}, tensor: {repr(output)}\")\n",
    "    dist.barrier()\n",
    "```"
   ]
  }
 ],
 "metadata": {
  "kernelspec": {
   "display_name": "Python 3 (ipykernel)",
   "language": "python",
   "name": "python3"
  },
  "language_info": {
   "codemirror_mode": {
    "name": "ipython",
    "version": 3
   },
   "file_extension": ".py",
   "mimetype": "text/x-python",
   "name": "python",
   "nbconvert_exporter": "python",
   "pygments_lexer": "ipython3",
   "version": "3.10.13"
  },
  "toc": {
   "base_numbering": 1,
   "nav_menu": {},
   "number_sections": true,
   "sideBar": true,
   "skip_h1_title": false,
   "title_cell": "Table of Contents",
   "title_sidebar": "Contents",
   "toc_cell": false,
   "toc_position": {
    "height": "calc(100% - 180px)",
    "left": "10px",
    "top": "150px",
    "width": "165px"
   },
   "toc_section_display": true,
   "toc_window_display": true
  }
 },
 "nbformat": 4,
 "nbformat_minor": 5
}
