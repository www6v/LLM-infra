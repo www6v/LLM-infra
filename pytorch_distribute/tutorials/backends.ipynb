{
 "cells": [
  {
   "cell_type": "markdown",
   "id": "c2d64808",
   "metadata": {},
   "source": [
    "- references\n",
    "  - https://www.uio.no/studier/emner/matnat/ifi/INF3380/v11/undervisningsmateriale/inf3380-week06.pdf\n",
    "  - https://indico.desy.de/event/12535/contributions/9450/attachments/6466/7452/CL5_MPI_Lecture.pdf"
   ]
  },
  {
   "cell_type": "markdown",
   "id": "789e3443",
   "metadata": {},
   "source": [
    "## overall"
   ]
  },
  {
   "cell_type": "markdown",
   "id": "6944af1f",
   "metadata": {},
   "source": [
    "> 都算是并行计算库（library）；\n",
    "\n",
    "- MPI: Message Passing Interface\n",
    "    - Open MPI 的Allreduce 算法实现比较丰富，并且与 MPI 接口完全一致，比较适合做 MPI 研究的同学\n",
    "- NCCL: NVIDIA Collective Communication Library (NCCL)\n",
    "    - PCIe、Nvlink、InfiniBand 上可以实现较高的通信速度。\n",
    "    - NCCL 可以轻松与 MPI结合使用。将MPI用于CPU到CPU的通信，将NCCL用于GPU到GPU的通信\n",
    "- gloo: 单机多进程的情况 on CPU\n"
   ]
  },
  {
   "cell_type": "markdown",
   "id": "797c9af4",
   "metadata": {},
   "source": [
    "## MPI"
   ]
  },
  {
   "cell_type": "markdown",
   "id": "239c62d4",
   "metadata": {},
   "source": [
    "## NCCL"
   ]
  },
  {
   "cell_type": "code",
   "execution_count": 1,
   "id": "d971a4c1",
   "metadata": {
    "ExecuteTime": {
     "end_time": "2024-02-20T14:20:31.510452Z",
     "start_time": "2024-02-20T14:20:31.269391Z"
    }
   },
   "outputs": [],
   "source": [
    "!export NCCL_DEBUG=INFO\n",
    "!export NCCL_SOCKET_IFNAME=eno2\n",
    "# export NCCL_IB_DISABLE=1"
   ]
  },
  {
   "cell_type": "markdown",
   "id": "929349b7",
   "metadata": {},
   "source": [
    "## Gloo"
   ]
  }
 ],
 "metadata": {
  "kernelspec": {
   "display_name": "Python 3 (ipykernel)",
   "language": "python",
   "name": "python3"
  },
  "language_info": {
   "codemirror_mode": {
    "name": "ipython",
    "version": 3
   },
   "file_extension": ".py",
   "mimetype": "text/x-python",
   "name": "python",
   "nbconvert_exporter": "python",
   "pygments_lexer": "ipython3",
   "version": "3.10.13"
  },
  "toc": {
   "base_numbering": 1,
   "nav_menu": {},
   "number_sections": true,
   "sideBar": true,
   "skip_h1_title": false,
   "title_cell": "Table of Contents",
   "title_sidebar": "Contents",
   "toc_cell": false,
   "toc_position": {},
   "toc_section_display": true,
   "toc_window_display": false
  }
 },
 "nbformat": 4,
 "nbformat_minor": 5
}
