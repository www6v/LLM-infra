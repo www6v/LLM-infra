{
 "cells": [
  {
   "cell_type": "markdown",
   "id": "048138c2",
   "metadata": {},
   "source": [
    "## basics"
   ]
  },
  {
   "cell_type": "markdown",
   "id": "1b09b4d4",
   "metadata": {},
   "source": [
    "- MPI：Message Passing Interface\n",
    "    - `deepspeed.init_distributed()`"
   ]
  },
  {
   "cell_type": "markdown",
   "id": "406ee0e4",
   "metadata": {},
   "source": [
    "## install"
   ]
  },
  {
   "cell_type": "markdown",
   "id": "c6af9e9e",
   "metadata": {},
   "source": [
    "- ubuntu: `sudo apt-get install libopenmpi-dev`\n",
    "- python: `pip install --no-cache-dir mpi4py`\n",
    "\n",
    "    ```\n",
    "    failed to build mpi4py\n",
    "    ERROR: Could not build wheels for mpi4py which use\n",
    "    ```\n",
    "    \n",
    "    - https://github.com/mpi4py/mpi4py/issues/335#issuecomment-1486366039\n",
    "        - `rm ~/anaconda3/envs/xx/compiler_compat/ld`"
   ]
  }
 ],
 "metadata": {
  "kernelspec": {
   "display_name": "Python 3 (ipykernel)",
   "language": "python",
   "name": "python3"
  },
  "language_info": {
   "codemirror_mode": {
    "name": "ipython",
    "version": 3
   },
   "file_extension": ".py",
   "mimetype": "text/x-python",
   "name": "python",
   "nbconvert_exporter": "python",
   "pygments_lexer": "ipython3",
   "version": "3.10.13"
  },
  "toc": {
   "base_numbering": 1,
   "nav_menu": {},
   "number_sections": true,
   "sideBar": true,
   "skip_h1_title": false,
   "title_cell": "Table of Contents",
   "title_sidebar": "Contents",
   "toc_cell": false,
   "toc_position": {},
   "toc_section_display": true,
   "toc_window_display": false
  }
 },
 "nbformat": 4,
 "nbformat_minor": 5
}
