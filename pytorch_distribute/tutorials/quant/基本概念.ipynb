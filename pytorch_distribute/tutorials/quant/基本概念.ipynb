{
 "cells": [
  {
   "cell_type": "markdown",
   "id": "3177e01b-67c8-4b89-b02d-91af215c3e01",
   "metadata": {},
   "source": [
    "## quantization_config"
   ]
  },
  {
   "cell_type": "markdown",
   "id": "4e960d5c-5014-46d0-b0cd-2895ee3a5f5f",
   "metadata": {},
   "source": [
    "- quantization_method\n",
    "    - llm_int8\n",
    "    - fp4"
   ]
  },
  {
   "cell_type": "markdown",
   "id": "89462a58-6f31-433e-a953-47b6035197ac",
   "metadata": {},
   "source": [
    "## bitsandbytes (bnb)"
   ]
  },
  {
   "cell_type": "markdown",
   "id": "deea5242-d7ff-4ba8-b204-bc29a51c8dc7",
   "metadata": {},
   "source": [
    "- `load_in_4bit/load_in_8bit`\n",
    "- `bnb.nn.Linear4bit`\n"
   ]
  }
 ],
 "metadata": {
  "kernelspec": {
   "display_name": "Python 3 (ipykernel)",
   "language": "python",
   "name": "python3"
  },
  "language_info": {
   "codemirror_mode": {
    "name": "ipython",
    "version": 3
   },
   "file_extension": ".py",
   "mimetype": "text/x-python",
   "name": "python",
   "nbconvert_exporter": "python",
   "pygments_lexer": "ipython3",
   "version": "3.10.13"
  }
 },
 "nbformat": 4,
 "nbformat_minor": 5
}
