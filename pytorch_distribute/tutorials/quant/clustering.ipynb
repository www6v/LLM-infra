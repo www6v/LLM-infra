{
 "cells": [
  {
   "cell_type": "code",
   "execution_count": 1,
   "id": "b0a97a05-9889-4b5a-8b71-68b964ceee97",
   "metadata": {},
   "outputs": [],
   "source": [
    "from IPython.display import Image"
   ]
  },
  {
   "cell_type": "markdown",
   "id": "ff9d3010-2a57-42bd-99d8-32b8a38a9c97",
   "metadata": {},
   "source": [
    "- 基于 clustering 的 weights quantization\n",
    "    - k-means clustering"
   ]
  },
  {
   "cell_type": "code",
   "execution_count": 2,
   "id": "b98ef69b-c787-4d4c-858f-1ba6dd93101d",
   "metadata": {},
   "outputs": [
    {
     "data": {
      "text/html": [
       "<img src=\"../../imgs/quant-clustering.jpeg\" width=\"400\"/>"
      ],
      "text/plain": [
       "<IPython.core.display.Image object>"
      ]
     },
     "execution_count": 2,
     "metadata": {},
     "output_type": "execute_result"
    }
   ],
   "source": [
    "Image(url='../../imgs/quant-clustering.jpeg', width=400)"
   ]
  },
  {
   "cell_type": "code",
   "execution_count": 3,
   "id": "e0bc6f7a-7c7f-47df-8d41-866be87e8aff",
   "metadata": {},
   "outputs": [
    {
     "name": "stdout",
     "output_type": "stream",
     "text": [
      "重新排序后的量化索引矩阵：\n",
      " [[3 0 2 1]\n",
      " [1 1 0 3]\n",
      " [0 3 1 0]\n",
      " [3 1 2 2]]\n",
      "重新排序后的质心值：\n",
      " [-1.   0.   1.5  2. ]\n"
     ]
    },
    {
     "name": "stderr",
     "output_type": "stream",
     "text": [
      "/home/whaow/anaconda3/lib/python3.10/site-packages/sklearn/cluster/_kmeans.py:1416: FutureWarning: The default value of `n_init` will change from 10 to 'auto' in 1.4. Set the value of `n_init` explicitly to suppress the warning\n",
      "  super()._check_params_vs_input(X, default_n_init=10)\n"
     ]
    }
   ],
   "source": [
    "import numpy as np\n",
    "from sklearn.cluster import KMeans\n",
    "\n",
    "# 原始权重矩阵\n",
    "weights = np.array([\n",
    "    [2.09, -0.98, 1.48, 0.09],\n",
    "    [0.05, -0.14, -1.08, 2.12],\n",
    "    [-0.91, 1.92, 0, -1.03],\n",
    "    [1.87, 0, 1.53, 1.49]\n",
    "])\n",
    "\n",
    "# K-means聚类\n",
    "kmeans = KMeans(n_clusters=4)\n",
    "kmeans.fit(weights.reshape(-1, 1))\n",
    "cluster_indices = kmeans.predict(weights.reshape(-1, 1)).reshape(weights.shape)\n",
    "centroids = kmeans.cluster_centers_.flatten()\n",
    "\n",
    "# 根据质心值排序\n",
    "sorted_indices = np.argsort(centroids)\n",
    "sorted_centroids = centroids[sorted_indices]\n",
    "\n",
    "# 创建索引映射\n",
    "index_map = {old_idx: new_idx for new_idx, old_idx in enumerate(sorted_indices)}\n",
    "\n",
    "# 更新量化索引矩阵\n",
    "new_cluster_indices = np.vectorize(index_map.get)(cluster_indices)\n",
    "\n",
    "print(\"重新排序后的量化索引矩阵：\\n\", new_cluster_indices)\n",
    "print(\"重新排序后的质心值：\\n\", sorted_centroids)"
   ]
  },
  {
   "cell_type": "code",
   "execution_count": null,
   "id": "53023ecf-0d0e-481f-8c59-32ca6e807ef6",
   "metadata": {},
   "outputs": [],
   "source": []
  }
 ],
 "metadata": {
  "kernelspec": {
   "display_name": "Python 3 (ipykernel)",
   "language": "python",
   "name": "python3"
  },
  "language_info": {
   "codemirror_mode": {
    "name": "ipython",
    "version": 3
   },
   "file_extension": ".py",
   "mimetype": "text/x-python",
   "name": "python",
   "nbconvert_exporter": "python",
   "pygments_lexer": "ipython3",
   "version": "3.10.13"
  }
 },
 "nbformat": 4,
 "nbformat_minor": 5
}
