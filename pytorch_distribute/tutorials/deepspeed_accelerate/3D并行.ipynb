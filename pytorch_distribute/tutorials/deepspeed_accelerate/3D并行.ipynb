{
 "cells": [
  {
   "cell_type": "code",
   "execution_count": 1,
   "id": "50fcd4ce-b005-4011-bce3-21fb87e4e9cf",
   "metadata": {
    "execution": {
     "iopub.execute_input": "2024-08-24T03:20:46.227453Z",
     "iopub.status.busy": "2024-08-24T03:20:46.226811Z",
     "iopub.status.idle": "2024-08-24T03:20:46.237536Z",
     "shell.execute_reply": "2024-08-24T03:20:46.235874Z",
     "shell.execute_reply.started": "2024-08-24T03:20:46.227405Z"
    }
   },
   "outputs": [],
   "source": [
    "from IPython.display import Image"
   ]
  },
  {
   "attachments": {},
   "cell_type": "markdown",
   "id": "459548a2-5d6c-4220-b115-422af48bd5e0",
   "metadata": {},
   "source": [
    "- fsdp\n",
    "    - fully-sharded data parallel：全分片数据并行；\n",
    "- data parallel\n",
    "    - 每个计算设备都有整个神经网络模型的完整副本（Model Replica）\n",
    "    - 假设一个批次的训练样本数为 $N$，使用 $M$ 个计算设备并行计算，每个计算设备会分配到 $N/M$ 个样本\n",
    "        - 前向计算完成后，每个计算设备都会根据本地样本计算损失误差得到梯度 $G_i$（i 为加速卡编号）\n",
    "        - 并将本地梯度 $G_i$ 进行广播（nccl，broadcast）\n",
    "        - 所有计算设备需要聚合其他加速度卡给出的梯度值，然后使用平均梯度 $\\frac{\\sum G_i}{M}$ 对模型进行更新"
   ]
  },
  {
   "cell_type": "markdown",
   "id": "60eb27dc-feed-4d38-9720-e73785fc418b",
   "metadata": {},
   "source": [
    "### pipeline parallel"
   ]
  },
  {
   "cell_type": "code",
   "execution_count": 4,
   "id": "cd00628b-c258-40f5-9337-a7a0dc994f91",
   "metadata": {
    "execution": {
     "iopub.execute_input": "2024-08-24T03:22:45.718770Z",
     "iopub.status.busy": "2024-08-24T03:22:45.718148Z",
     "iopub.status.idle": "2024-08-24T03:22:45.729982Z",
     "shell.execute_reply": "2024-08-24T03:22:45.727718Z",
     "shell.execute_reply.started": "2024-08-24T03:22:45.718727Z"
    }
   },
   "outputs": [
    {
     "data": {
      "text/html": [
       "<img src=\"../../imgs/gpipe-pp.png\" width=\"700\"/>"
      ],
      "text/plain": [
       "<IPython.core.display.Image object>"
      ]
     },
     "execution_count": 4,
     "metadata": {},
     "output_type": "execute_result"
    }
   ],
   "source": [
    "# https://arxiv.org/pdf/1811.06965\n",
    "Image(url='../../imgs/gpipe-pp.png', width=700)"
   ]
  },
  {
   "cell_type": "markdown",
   "id": "182ea354-b876-456a-af2f-461654b75439",
   "metadata": {},
   "source": [
    "- 计算图中的下游设备（Downstream Device）需要长时间持续处于空闲状态，等待上游设备（Upstream Device）的计算完成，才能开始计算自身的任务。这种情况导致了设备的平均使用率大幅降低，形成了模型并行气泡（Model Parallelism Bubble），也称为流水线气泡（Pipeline Bubble）。\n",
    "- (c) Pipeline parallelism divides the input mini-batch into smaller micro-batches, enabling different accelerators to\n",
    "work on different micro-batches simultaneously."
   ]
  },
  {
   "cell_type": "markdown",
   "id": "a4c9e307-6294-4d06-a5a3-94d90d732364",
   "metadata": {},
   "source": [
    "### Optimizer states"
   ]
  },
  {
   "cell_type": "code",
   "execution_count": 7,
   "id": "44cde83d-c8ef-469b-b1d8-a6b9988a48b5",
   "metadata": {
    "execution": {
     "iopub.execute_input": "2024-08-24T03:35:50.410779Z",
     "iopub.status.busy": "2024-08-24T03:35:50.410174Z",
     "iopub.status.idle": "2024-08-24T03:35:50.422169Z",
     "shell.execute_reply": "2024-08-24T03:35:50.420239Z",
     "shell.execute_reply.started": "2024-08-24T03:35:50.410735Z"
    }
   },
   "outputs": [
    {
     "data": {
      "text/html": [
       "<img src=\"../../imgs/adam-mixed-precision.png\" width=\"500\"/>"
      ],
      "text/plain": [
       "<IPython.core.display.Image object>"
      ]
     },
     "execution_count": 7,
     "metadata": {},
     "output_type": "execute_result"
    }
   ],
   "source": [
    "Image(url='../../imgs/adam-mixed-precision.png', width=500)"
   ]
  },
  {
   "attachments": {},
   "cell_type": "markdown",
   "id": "11fce925-9f72-4f33-b440-a696315b4d5e",
   "metadata": {},
   "source": [
    "混合精度优化的过程如上图。Adam优化器状态包括（都采用FP32保存式存储），假设模型参数量为$\\Phi$，\n",
    "\n",
    "- 模型参数备份：$4\\Phi$\n",
    "- 一阶动量：$4\\Phi$\n",
    "- 二阶动量：$4\\Phi$\n",
    "  \n",
    "模型参数和梯度都是用FP16 格式存储（$2\\Phi+2\\Phi$），则共需要 2Φ + 2Φ + (4Φ + 4Φ + 4Φ) = 16Φ 字节存储\n",
    "\n",
    "75 亿参数模型（7.5B），如果用FP16 格式，只需要 15GB 计算设备内存（7.5\\*2），但是在训练阶段，模型状态实际上需要耗费120GB（7.5\\*16）。"
   ]
  },
  {
   "cell_type": "code",
   "execution_count": 8,
   "id": "d7de3184-fc8d-4837-b8d5-367c37ceba4c",
   "metadata": {
    "execution": {
     "iopub.execute_input": "2024-08-24T03:37:49.808463Z",
     "iopub.status.busy": "2024-08-24T03:37:49.807850Z",
     "iopub.status.idle": "2024-08-24T03:37:49.820724Z",
     "shell.execute_reply": "2024-08-24T03:37:49.818538Z",
     "shell.execute_reply.started": "2024-08-24T03:37:49.808417Z"
    }
   },
   "outputs": [
    {
     "data": {
      "text/html": [
       "<img src=\"https://www.microsoft.com/en-us/research/uploads/prodnew/2020/02/DeepSpeed-Image-1.png\" width=\"500\"/>"
      ],
      "text/plain": [
       "<IPython.core.display.Image object>"
      ]
     },
     "execution_count": 8,
     "metadata": {},
     "output_type": "execute_result"
    }
   ],
   "source": [
    "Image(url='https://www.microsoft.com/en-us/research/uploads/prodnew/2020/02/DeepSpeed-Image-1.png', width=500)"
   ]
  },
  {
   "cell_type": "markdown",
   "id": "0c67d534-cbad-41cf-88a1-58a5321593ea",
   "metadata": {},
   "source": [
    "### 3D parallel"
   ]
  },
  {
   "cell_type": "markdown",
   "id": "3e0e7270-9d05-4ea8-a40e-402ca81aea46",
   "metadata": {},
   "source": [
    "- https://huggingface.co/docs/transformers/v4.17.0/en/parallelism\n",
    "- https://www.microsoft.com/en-us/research/blog/deepspeed-extreme-scale-model-training-for-everyone/"
   ]
  },
  {
   "cell_type": "code",
   "execution_count": 9,
   "id": "82751942-55c9-4a7c-8c34-0ed6a44a039b",
   "metadata": {
    "execution": {
     "iopub.execute_input": "2024-08-24T03:44:12.307497Z",
     "iopub.status.busy": "2024-08-24T03:44:12.306879Z",
     "iopub.status.idle": "2024-08-24T03:44:12.320691Z",
     "shell.execute_reply": "2024-08-24T03:44:12.318946Z",
     "shell.execute_reply.started": "2024-08-24T03:44:12.307453Z"
    }
   },
   "outputs": [
    {
     "data": {
      "text/html": [
       "<img src=\"https://www.microsoft.com/en-us/research/uploads/prodnew/2020/09/Blog_DeepSpeed3_Figure-1_highres-1536x923.png\" width=\"500\"/>"
      ],
      "text/plain": [
       "<IPython.core.display.Image object>"
      ]
     },
     "execution_count": 9,
     "metadata": {},
     "output_type": "execute_result"
    }
   ],
   "source": [
    "Image(url='https://www.microsoft.com/en-us/research/uploads/prodnew/2020/09/Blog_DeepSpeed3_Figure-1_highres-1536x923.png', width=500)"
   ]
  },
  {
   "attachments": {},
   "cell_type": "markdown",
   "id": "3b540110-a378-4a81-a7b7-6c35be37b99e",
   "metadata": {},
   "source": [
    "32个计算设备进行3D并行的例子。神经网络的各层分为4个流水线阶段。每个流水线阶段中的层在4个张量并行计算设备之间进一步划分。最后，每个流水线阶段有两个数据并行实例，使用ZeRO 内存优化在这2个副本之间划分优化器状态量。"
   ]
  },
  {
   "cell_type": "code",
   "execution_count": 10,
   "id": "a12f64d3-5325-4db6-9f0d-54efe3f5d836",
   "metadata": {
    "execution": {
     "iopub.execute_input": "2024-08-24T03:44:30.510689Z",
     "iopub.status.busy": "2024-08-24T03:44:30.510364Z",
     "iopub.status.idle": "2024-08-24T03:44:30.523898Z",
     "shell.execute_reply": "2024-08-24T03:44:30.521633Z",
     "shell.execute_reply.started": "2024-08-24T03:44:30.510667Z"
    }
   },
   "outputs": [
    {
     "data": {
      "text/html": [
       "<img src=\"https://www.microsoft.com/en-us/research/uploads/prodnew/2020/09/Blog_DeepSpeed3_Figure2_highres.png\" width=\"500\"/>"
      ],
      "text/plain": [
       "<IPython.core.display.Image object>"
      ]
     },
     "execution_count": 10,
     "metadata": {},
     "output_type": "execute_result"
    }
   ],
   "source": [
    "Image(url='https://www.microsoft.com/en-us/research/uploads/prodnew/2020/09/Blog_DeepSpeed3_Figure2_highres.png', width=500)"
   ]
  },
  {
   "cell_type": "markdown",
   "id": "ab521645-01ca-48c6-825a-bf231d180c73",
   "metadata": {},
   "source": [
    "### BLOOM"
   ]
  },
  {
   "attachments": {},
   "cell_type": "markdown",
   "id": "4293f375-6fe5-4a35-b4aa-8da573a9e47c",
   "metadata": {},
   "source": [
    "BLOOM 使用Megatron-DeepSpeed[108] 框架进行训练，主要包含两个部分：\n",
    "\n",
    "- Megatron-LM提供张量并行能力和数据加载原语；\n",
    "- DeepSpeed[138] 提供ZeRO 优化器、模型流水线及常规的分布式训练组件。\n",
    "  \n",
    "通过这种方式可以实现数据、张量和流水线三维并行。"
   ]
  },
  {
   "cell_type": "code",
   "execution_count": 6,
   "id": "c6acc4e4-08fd-4000-a75f-083153cea7ef",
   "metadata": {
    "execution": {
     "iopub.execute_input": "2024-08-24T03:30:44.773533Z",
     "iopub.status.busy": "2024-08-24T03:30:44.772913Z",
     "iopub.status.idle": "2024-08-24T03:30:44.786033Z",
     "shell.execute_reply": "2024-08-24T03:30:44.783667Z",
     "shell.execute_reply.started": "2024-08-24T03:30:44.773488Z"
    }
   },
   "outputs": [
    {
     "data": {
      "text/html": [
       "<img src=\"../../imgs/bloom.png\" width=\"700\"/>"
      ],
      "text/plain": [
       "<IPython.core.display.Image object>"
      ]
     },
     "execution_count": 6,
     "metadata": {},
     "output_type": "execute_result"
    }
   ],
   "source": [
    "Image(url='../../imgs/bloom.png', width=700)"
   ]
  },
  {
   "cell_type": "code",
   "execution_count": null,
   "id": "617a514d-54f9-4c9b-862f-2371c55e262f",
   "metadata": {},
   "outputs": [],
   "source": []
  }
 ],
 "metadata": {
  "kernelspec": {
   "display_name": "Python 3 (ipykernel)",
   "language": "python",
   "name": "python3"
  },
  "language_info": {
   "codemirror_mode": {
    "name": "ipython",
    "version": 3
   },
   "file_extension": ".py",
   "mimetype": "text/x-python",
   "name": "python",
   "nbconvert_exporter": "python",
   "pygments_lexer": "ipython3",
   "version": "3.10.13"
  }
 },
 "nbformat": 4,
 "nbformat_minor": 5
}
