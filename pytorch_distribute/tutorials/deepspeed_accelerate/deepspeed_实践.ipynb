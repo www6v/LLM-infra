{
 "cells": [
  {
   "cell_type": "code",
   "execution_count": 2,
   "id": "5ffccf24",
   "metadata": {
    "ExecuteTime": {
     "end_time": "2023-12-21T13:42:30.270645Z",
     "start_time": "2023-12-21T13:42:30.267106Z"
    }
   },
   "outputs": [],
   "source": [
    "#!export https_proxy=http://127.0.0.1:7890\n",
    "#!export http_proxy=http://127.0.0.1:7890\n",
    "#!export all_proxy=socks5://127.0.0.1:7890"
   ]
  },
  {
   "cell_type": "code",
   "execution_count": 4,
   "id": "b3d9ded3",
   "metadata": {
    "ExecuteTime": {
     "end_time": "2023-12-20T14:59:31.811267Z",
     "start_time": "2023-12-20T14:59:31.805487Z"
    }
   },
   "outputs": [],
   "source": [
    "import os\n",
    "os.environ['http_proxy'] = '127.0.0.1:7890'\n",
    "os.environ['https_proxy'] = '127.0.0.1:7890'"
   ]
  },
  {
   "cell_type": "markdown",
   "id": "bbc7928c-6692-4786-ac48-55613753ba61",
   "metadata": {},
   "source": [
    "### misc"
   ]
  },
  {
   "cell_type": "markdown",
   "id": "f32ddb19-10e9-484b-be25-a1bdc260ebab",
   "metadata": {},
   "source": [
    "- offload optimizer states & parameters\n",
    "    - cpu\n",
    "    - nvme\n",
    "- stage-3 跟 device-map 不兼容跟 low_cpu \n",
    "    - 让 Accelerate/DeepSpeed 自动完成设备映射。\n",
    "    - `device_map = 'auto'`: 在所有可用的 gpu 上均匀分配模型；"
   ]
  },
  {
   "cell_type": "markdown",
   "id": "99029bf9-d91a-45c0-8dfd-ed1360bc4a7b",
   "metadata": {},
   "source": [
    "## gpu memory"
   ]
  },
  {
   "cell_type": "markdown",
   "id": "2862c828-9eb2-4e21-9591-6686b2632fa3",
   "metadata": {},
   "source": [
    "- https://deepspeed.readthedocs.io/en/latest/memory.html"
   ]
  },
  {
   "cell_type": "markdown",
   "id": "ac86ced7-d087-4519-a1cd-217c7b2e88c8",
   "metadata": {},
   "source": [
    "```\n",
    "from transformers import AutoModel\n",
    "from deepspeed.runtime.zero.stage_1_and_2 import estimate_zero2_model_states_mem_needs_all_live\n",
    "model = AutoModel.from_pretrained(\"meta-llama/Llama-2-7b-hf\")\n",
    "estimate_zero2_model_states_mem_needs_all_live(model, num_gpus_per_node=2, num_nodes=1)\n",
    "```\n",
    "\n",
    "```\n",
    "Estimated memory needed for params, optim states and gradients for a:\n",
    "HW: Setup with 1 node, 2 GPUs per node.\n",
    "SW: Model with 6607M total params.\n",
    "  per CPU  |  per GPU |   Options\n",
    "  147.69GB |  12.31GB | offload_optimizer=cpu\n",
    "   73.84GB |  73.84GB | offload_optimizer=non\n",
    "```\n",
    "\n",
    "```\n",
    "python -c 'from transformers import AutoModel; \\\n",
    "from deepspeed.runtime.zero.stage3 import estimate_zero3_model_states_mem_needs_all_live; \\\n",
    "model = AutoModel.from_pretrained(\"t5-3b\"); \\\n",
    "estimate_zero3_model_states_mem_needs_all_live(model, num_gpus_per_node=8, num_nodes=1)'\n",
    "```\n",
    "\n",
    "```\n",
    "Estimated memory needed for params, optim states and gradients for a:\n",
    "HW: Setup with 1 node, 2 GPUs per node.\n",
    "SW: Model with 6607M total params, 131M largest layer params.\n",
    "  per CPU  |  per GPU |   Options\n",
    "  166.15GB |   0.49GB | offload_param=cpu , offload_optimizer=cpu , zero_init=1\n",
    "  166.15GB |   0.49GB | offload_param=cpu , offload_optimizer=cpu , zero_init=0\n",
    "  147.69GB |   6.64GB | offload_param=none, offload_optimizer=cpu , zero_init=1\n",
    "  147.69GB |   6.64GB | offload_param=none, offload_optimizer=cpu , zero_init=0\n",
    "    1.46GB |  55.87GB | offload_param=none, offload_optimizer=none, zero_init=1\n",
    "   73.84GB |  55.87GB | offload_param=none, offload_optimizer=none, zero_init=0\n",
    "```"
   ]
  },
  {
   "cell_type": "markdown",
   "id": "e97c7c96",
   "metadata": {},
   "source": [
    "## ds_config"
   ]
  },
  {
   "cell_type": "markdown",
   "id": "7392e481",
   "metadata": {},
   "source": [
    "- https://www.deepspeed.ai/docs/config-json/"
   ]
  },
  {
   "cell_type": "code",
   "execution_count": 1,
   "id": "8438a293",
   "metadata": {
    "ExecuteTime": {
     "end_time": "2023-12-20T14:59:25.800641Z",
     "start_time": "2023-12-20T14:59:20.126112Z"
    }
   },
   "outputs": [
    {
     "name": "stdout",
     "output_type": "stream",
     "text": [
      "[2023-12-20 22:59:22,719] [INFO] [real_accelerator.py:161:get_accelerator] Setting ds_accelerator to cuda (auto detect)\n"
     ]
    }
   ],
   "source": [
    "from transformers import AutoTokenizer, AutoConfig, AutoModelForSeq2SeqLM\n",
    "from transformers.integrations import HfDeepSpeedConfig\n",
    "import deepspeed\n",
    "import os\n",
    "import torch"
   ]
  },
  {
   "cell_type": "code",
   "execution_count": 2,
   "id": "e738ec3e",
   "metadata": {
    "ExecuteTime": {
     "end_time": "2023-12-20T14:59:27.713288Z",
     "start_time": "2023-12-20T14:59:27.710246Z"
    }
   },
   "outputs": [],
   "source": [
    "os.environ[\"TOKENIZERS_PARALLELISM\"] = \"false\""
   ]
  },
  {
   "cell_type": "code",
   "execution_count": 3,
   "id": "67a036c4",
   "metadata": {
    "ExecuteTime": {
     "end_time": "2023-12-20T14:59:29.458656Z",
     "start_time": "2023-12-20T14:59:28.987817Z"
    }
   },
   "outputs": [
    {
     "name": "stdout",
     "output_type": "stream",
     "text": [
      "[2023-12-20 22:59:28,990] [INFO] [comm.py:637:init_distributed] cdb=None\n",
      "[2023-12-20 22:59:28,993] [INFO] [comm.py:652:init_distributed] Not using the DeepSpeed or dist launchers, attempting to detect MPI environment...\n",
      "[2023-12-20 22:59:29,450] [INFO] [comm.py:702:mpi_discovery] Discovered MPI settings of world_rank=0, local_rank=0, world_size=1, master_addr=169.254.3.1, master_port=29500\n",
      "[2023-12-20 22:59:29,453] [INFO] [comm.py:668:init_distributed] Initializing TorchBackend in DeepSpeed with backend nccl\n"
     ]
    }
   ],
   "source": [
    "local_rank = int(os.getenv(\"LOCAL_RANK\", \"0\"))\n",
    "world_size = int(os.getenv(\"WORLD_SIZE\", \"1\"))\n",
    "torch.cuda.set_device(local_rank)\n",
    "deepspeed.init_distributed()"
   ]
  },
  {
   "cell_type": "code",
   "execution_count": 8,
   "id": "365c72c8",
   "metadata": {
    "ExecuteTime": {
     "end_time": "2023-12-20T14:59:49.649806Z",
     "start_time": "2023-12-20T14:59:49.290940Z"
    }
   },
   "outputs": [],
   "source": [
    "model_name = \"bigscience/T0_3B\"\n",
    "config = AutoConfig.from_pretrained(model_name)\n",
    "model_hidden_size = config.d_model\n",
    "train_batch_size = 1 * world_size"
   ]
  },
  {
   "cell_type": "code",
   "execution_count": 9,
   "id": "e77beb0d",
   "metadata": {
    "ExecuteTime": {
     "end_time": "2023-12-20T14:59:51.921235Z",
     "start_time": "2023-12-20T14:59:51.913275Z"
    }
   },
   "outputs": [],
   "source": [
    "ds_config = {\n",
    "    \"fp16\": {\n",
    "        \"enabled\": False\n",
    "    },\n",
    "    \"bf16\": {\n",
    "        \"enabled\": False\n",
    "    },\n",
    "    \"zero_optimization\": {\n",
    "        \"stage\": 3,\n",
    "        \"offload_param\": {\n",
    "            \"device\": \"cpu\",\n",
    "            \"pin_memory\": True\n",
    "        },\n",
    "        \"overlap_comm\": True,\n",
    "        \"contiguous_gradients\": True,\n",
    "        \"reduce_bucket_size\": model_hidden_size * model_hidden_size,\n",
    "        \"stage3_prefetch_bucket_size\": 0.9 * model_hidden_size * model_hidden_size,\n",
    "        \"stage3_param_persistence_threshold\": 10 * model_hidden_size\n",
    "    },\n",
    "    \"steps_per_print\": 2000,\n",
    "    \"train_batch_size\": train_batch_size,\n",
    "    \"train_micro_batch_size_per_gpu\": 1,\n",
    "    \"wall_clock_breakdown\": False\n",
    "}"
   ]
  },
  {
   "cell_type": "code",
   "execution_count": 11,
   "id": "2cbd1646",
   "metadata": {
    "ExecuteTime": {
     "end_time": "2023-12-21T13:00:33.151046Z",
     "start_time": "2023-12-21T13:00:33.140874Z"
    }
   },
   "outputs": [],
   "source": [
    "dschf = HfDeepSpeedConfig(ds_config) "
   ]
  },
  {
   "cell_type": "code",
   "execution_count": null,
   "id": "f2312e4d",
   "metadata": {},
   "outputs": [],
   "source": []
  }
 ],
 "metadata": {
  "kernelspec": {
   "display_name": "Python 3 (ipykernel)",
   "language": "python",
   "name": "python3"
  },
  "language_info": {
   "codemirror_mode": {
    "name": "ipython",
    "version": 3
   },
   "file_extension": ".py",
   "mimetype": "text/x-python",
   "name": "python",
   "nbconvert_exporter": "python",
   "pygments_lexer": "ipython3",
   "version": "3.10.13"
  },
  "toc": {
   "base_numbering": 1,
   "nav_menu": {},
   "number_sections": true,
   "sideBar": true,
   "skip_h1_title": false,
   "title_cell": "Table of Contents",
   "title_sidebar": "Contents",
   "toc_cell": false,
   "toc_position": {},
   "toc_section_display": true,
   "toc_window_display": false
  }
 },
 "nbformat": 4,
 "nbformat_minor": 5
}
