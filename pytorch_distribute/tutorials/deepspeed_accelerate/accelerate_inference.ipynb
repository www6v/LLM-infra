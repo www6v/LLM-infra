{
 "cells": [
  {
   "cell_type": "markdown",
   "id": "6d7b0ca1-14e3-4c91-b872-04b2689bb784",
   "metadata": {},
   "source": [
    "## hello world"
   ]
  },
  {
   "cell_type": "markdown",
   "id": "f47fa347-d6ef-44ea-84c3-c35733c1a69f",
   "metadata": {
    "execution": {
     "iopub.execute_input": "2024-07-16T14:12:34.468659Z",
     "iopub.status.busy": "2024-07-16T14:12:34.468062Z",
     "iopub.status.idle": "2024-07-16T14:12:45.357926Z",
     "shell.execute_reply": "2024-07-16T14:12:45.355581Z",
     "shell.execute_reply.started": "2024-07-16T14:12:34.468613Z"
    },
    "jp-MarkdownHeadingCollapsed": true
   },
   "source": [
    "```\n",
    "from accelerate import Accelerator\n",
    "from accelerate.utils import gather_object\n",
    "\n",
    "accelerator = Accelerator()\n",
    "\n",
    "# each GPU creates a string\n",
    "message = [ f\"Hello this is GPU {accelerator.process_index}\" ] \n",
    "\n",
    "# collect the messages from all GPUs\n",
    "messages = gather_object(message)\n",
    "\n",
    "# output the messages only on the main process with accelerator.print() \n",
    "accelerator.print(messages)\n",
    "```"
   ]
  },
  {
   "cell_type": "code",
   "execution_count": 4,
   "id": "1171b48b-5b35-4fc2-b9a0-a87d9048898b",
   "metadata": {
    "execution": {
     "iopub.execute_input": "2024-07-16T14:16:46.495860Z",
     "iopub.status.busy": "2024-07-16T14:16:46.495214Z",
     "iopub.status.idle": "2024-07-16T14:17:12.196262Z",
     "shell.execute_reply": "2024-07-16T14:17:12.193848Z",
     "shell.execute_reply.started": "2024-07-16T14:16:46.495813Z"
    }
   },
   "outputs": [
    {
     "name": "stdout",
     "output_type": "stream",
     "text": [
      "[2024-07-16 22:16:55,906] [INFO] [real_accelerator.py:161:get_accelerator] Setting ds_accelerator to cuda (auto detect)\n",
      "Using RTX 4000 series which doesn't support faster communication speedups. Ensuring P2P and IB communications are disabled.\n",
      "W0716 22:16:56.327000 125943574452032 torch/distributed/run.py:757] \n",
      "W0716 22:16:56.327000 125943574452032 torch/distributed/run.py:757] *****************************************\n",
      "W0716 22:16:56.327000 125943574452032 torch/distributed/run.py:757] Setting OMP_NUM_THREADS environment variable for each process to be 1 in default, to avoid your system being overloaded, please further tune the variable for optimal performance in your application as needed. \n",
      "W0716 22:16:56.327000 125943574452032 torch/distributed/run.py:757] *****************************************\n",
      "[2024-07-16 22:17:05,175] [INFO] [real_accelerator.py:161:get_accelerator] Setting ds_accelerator to cuda (auto detect)\n",
      "[2024-07-16 22:17:05,523] [INFO] [comm.py:637:init_distributed] cdb=None\n",
      "[2024-07-16 22:17:05,523] [INFO] [comm.py:668:init_distributed] Initializing TorchBackend in DeepSpeed with backend nccl\n",
      "[2024-07-16 22:17:05,858] [INFO] [real_accelerator.py:161:get_accelerator] Setting ds_accelerator to cuda (auto detect)\n",
      "[2024-07-16 22:17:06,142] [INFO] [comm.py:637:init_distributed] cdb=None\n",
      "['Hello this is GPU 0', 'Hello this is GPU 1']\n"
     ]
    }
   ],
   "source": [
    "!accelerate launch --num_processes 2 ./utils/helloworld.py "
   ]
  },
  {
   "cell_type": "code",
   "execution_count": null,
   "id": "aede6181-134c-4fd5-8f56-ba330b9ab3f7",
   "metadata": {},
   "outputs": [],
   "source": []
  }
 ],
 "metadata": {
  "kernelspec": {
   "display_name": "Python 3 (ipykernel)",
   "language": "python",
   "name": "python3"
  },
  "language_info": {
   "codemirror_mode": {
    "name": "ipython",
    "version": 3
   },
   "file_extension": ".py",
   "mimetype": "text/x-python",
   "name": "python",
   "nbconvert_exporter": "python",
   "pygments_lexer": "ipython3",
   "version": "3.10.13"
  }
 },
 "nbformat": 4,
 "nbformat_minor": 5
}
