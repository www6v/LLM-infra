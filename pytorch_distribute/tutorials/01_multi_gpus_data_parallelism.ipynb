{
 "cells": [
  {
   "cell_type": "markdown",
   "id": "daccfde4",
   "metadata": {},
   "source": [
    "## summary"
   ]
  },
  {
   "cell_type": "markdown",
   "id": "6571ec53",
   "metadata": {},
   "source": [
    "- 数据并行 vs. 模型并行\n",
    "    - 数据并行：模型拷贝（per device），数据 split/chunk（batch 上）\n",
    "        \n",
    "        - the module is replicated on each device, and each replica handles a portion of the input. \n",
    "        - During the backwards pass, gradients from each replica are summed into the original module.\n",
    "            \n",
    "    - 模型并行：数据拷贝（per device），模型 split/chunk（显然是单卡放不下模型的情况下）\n",
    "- DP => DDP\n",
    "    - DP：`nn.DataParallel`\n",
    "        - https://pytorch.org/docs/stable/generated/torch.nn.DataParallel.html\n",
    "    - DDP: `DistributedDataParallel`\n",
    "    - Use nn.parallel.DistributedDataParallel instead of multiprocessing or nn.DataParallel and Distributed Data Parallel.\n",
    "- 参考\n",
    "    - https://pytorch.org/tutorials/beginner/blitz/data_parallel_tutorial.html\n",
    "    - https://pytorch.org/docs/stable/generated/torch.nn.DataParallel.html"
   ]
  },
  {
   "cell_type": "markdown",
   "id": "08484d90",
   "metadata": {},
   "source": [
    "## Imports and parameters\n"
   ]
  },
  {
   "cell_type": "code",
   "execution_count": 1,
   "id": "b955cfb5",
   "metadata": {
    "ExecuteTime": {
     "end_time": "2023-05-20T02:43:55.686518Z",
     "start_time": "2023-05-20T02:43:54.499559Z"
    }
   },
   "outputs": [],
   "source": [
    "import torch\n",
    "import torch.nn as nn\n",
    "from torch.utils.data import Dataset, DataLoader\n",
    "\n",
    "# Parameters and DataLoaders\n",
    "input_size = 5\n",
    "output_size = 2\n",
    "\n",
    "batch_size = 30\n",
    "data_size = 100"
   ]
  },
  {
   "cell_type": "code",
   "execution_count": 4,
   "id": "b352449c",
   "metadata": {
    "ExecuteTime": {
     "end_time": "2023-05-20T02:44:11.752456Z",
     "start_time": "2023-05-20T02:44:11.742847Z"
    }
   },
   "outputs": [
    {
     "data": {
      "text/plain": [
       "device(type='cuda', index=0)"
      ]
     },
     "execution_count": 4,
     "metadata": {},
     "output_type": "execute_result"
    }
   ],
   "source": [
    "device = torch.device('cuda:0' if torch.cuda.is_available() else 'cpu') \n",
    "device"
   ]
  },
  {
   "cell_type": "markdown",
   "id": "ab9cbb87",
   "metadata": {},
   "source": [
    "## dummy dataset"
   ]
  },
  {
   "cell_type": "code",
   "execution_count": 5,
   "id": "188a7d73",
   "metadata": {
    "ExecuteTime": {
     "end_time": "2023-05-20T02:44:20.606807Z",
     "start_time": "2023-05-20T02:44:20.594496Z"
    }
   },
   "outputs": [],
   "source": [
    "class RandomDataset(Dataset):\n",
    "\n",
    "    def __init__(self, size, length):\n",
    "        self.len = length\n",
    "        # 100*5\n",
    "        self.data = torch.randn(length, size)\n",
    "\n",
    "    def __getitem__(self, index):\n",
    "        # (5, )\n",
    "        return self.data[index]\n",
    "\n",
    "    def __len__(self):\n",
    "        # 100\n",
    "        return self.len\n",
    "\n",
    "rand_loader = DataLoader(dataset=RandomDataset(input_size, data_size),\n",
    "                         batch_size=batch_size, \n",
    "                         shuffle=True)"
   ]
  },
  {
   "cell_type": "code",
   "execution_count": 6,
   "id": "7ed67052",
   "metadata": {
    "ExecuteTime": {
     "end_time": "2023-05-20T02:45:15.614324Z",
     "start_time": "2023-05-20T02:45:15.602979Z"
    }
   },
   "outputs": [
    {
     "data": {
      "text/plain": [
       "torch.Size([30, 5])"
      ]
     },
     "execution_count": 6,
     "metadata": {},
     "output_type": "execute_result"
    }
   ],
   "source": [
    "next(iter(rand_loader)).shape"
   ]
  },
  {
   "cell_type": "markdown",
   "id": "7fd93f8f",
   "metadata": {},
   "source": [
    "## simple model"
   ]
  },
  {
   "cell_type": "code",
   "execution_count": 7,
   "id": "e45841d2",
   "metadata": {
    "ExecuteTime": {
     "end_time": "2023-05-20T02:45:37.631353Z",
     "start_time": "2023-05-20T02:45:37.621470Z"
    }
   },
   "outputs": [],
   "source": [
    "class Model(nn.Module):\n",
    "    # Our model\n",
    "\n",
    "    def __init__(self, input_size, output_size):\n",
    "        # 5 => 2\n",
    "        super(Model, self).__init__()\n",
    "        self.fc = nn.Linear(input_size, output_size)\n",
    "\n",
    "    def forward(self, input):\n",
    "        output = self.fc(input)\n",
    "        print(\"\\tIn Model: input size\", input.size(),\n",
    "              \"output size\", output.size())\n",
    "\n",
    "        return output"
   ]
  },
  {
   "cell_type": "markdown",
   "id": "48a8a502",
   "metadata": {},
   "source": [
    "## DataParallel"
   ]
  },
  {
   "cell_type": "markdown",
   "id": "016a618c",
   "metadata": {},
   "source": [
    "- https://pytorch.org/docs/stable/generated/torch.nn.DataParallel.html\n",
    "    - device_ids=None, \n",
    "        - 参与训练的 GPU 有哪些，device_ids=gpus；\n",
    "    - output_device=None\n",
    "        - 用于汇总梯度的 GPU 是哪个，output_device=gpus\\[0\\]\n",
    "    - dim=0\n",
    "- The parallelized module must have its parameters and buffers on device_ids[0] before running(forward/backward) this DataParallel module.\n",
    "    - `model.to('cuda:0')`"
   ]
  },
  {
   "cell_type": "code",
   "execution_count": 8,
   "id": "55678445",
   "metadata": {
    "ExecuteTime": {
     "end_time": "2023-05-20T02:47:34.957554Z",
     "start_time": "2023-05-20T02:47:34.921246Z"
    }
   },
   "outputs": [
    {
     "name": "stdout",
     "output_type": "stream",
     "text": [
      "Let's use 2 GPUs!\n"
     ]
    }
   ],
   "source": [
    "# (5, 2)\n",
    "model = Model(input_size, output_size)\n",
    "if torch.cuda.device_count() > 1:\n",
    "    print(\"Let's use\", torch.cuda.device_count(), \"GPUs!\")\n",
    "    # dim = 0 [30, xxx] -> [10, ...], [10, ...], [10, ...] on 3 GPUs\n",
    "    model = nn.DataParallel(model)"
   ]
  },
  {
   "cell_type": "code",
   "execution_count": 9,
   "id": "dba31026",
   "metadata": {
    "ExecuteTime": {
     "end_time": "2023-05-20T02:47:56.458690Z",
     "start_time": "2023-05-20T02:47:56.449824Z"
    }
   },
   "outputs": [
    {
     "data": {
      "text/plain": [
       "DataParallel(\n",
       "  (module): Model(\n",
       "    (fc): Linear(in_features=5, out_features=2, bias=True)\n",
       "  )\n",
       ")"
      ]
     },
     "execution_count": 9,
     "metadata": {},
     "output_type": "execute_result"
    }
   ],
   "source": [
    "model"
   ]
  },
  {
   "cell_type": "code",
   "execution_count": 10,
   "id": "7177d8f8",
   "metadata": {
    "ExecuteTime": {
     "end_time": "2023-05-20T02:48:27.676432Z",
     "start_time": "2023-05-20T02:48:25.962115Z"
    }
   },
   "outputs": [
    {
     "data": {
      "text/plain": [
       "DataParallel(\n",
       "  (module): Model(\n",
       "    (fc): Linear(in_features=5, out_features=2, bias=True)\n",
       "  )\n",
       ")"
      ]
     },
     "execution_count": 10,
     "metadata": {},
     "output_type": "execute_result"
    }
   ],
   "source": [
    "# model = model.to(device)\n",
    "model.to(device)"
   ]
  },
  {
   "cell_type": "markdown",
   "id": "9a302505",
   "metadata": {},
   "source": [
    "### tensors：to(device)"
   ]
  },
  {
   "cell_type": "code",
   "execution_count": 11,
   "id": "ab6db035",
   "metadata": {
    "ExecuteTime": {
     "end_time": "2023-05-20T02:49:26.564217Z",
     "start_time": "2023-05-20T02:49:26.528872Z"
    }
   },
   "outputs": [
    {
     "name": "stdout",
     "output_type": "stream",
     "text": [
      "a.is_cuda False\n",
      "a.is_cuda False\n",
      "b.is_cuda True\n"
     ]
    }
   ],
   "source": [
    "a = torch.randn(3, 4)\n",
    "print('a.is_cuda', a.is_cuda)\n",
    "b = a.to('cuda:0')\n",
    "print('a.is_cuda', a.is_cuda)\n",
    "print('b.is_cuda', b.is_cuda)\n",
    "# a and b are different "
   ]
  },
  {
   "cell_type": "markdown",
   "id": "bdffcb0e",
   "metadata": {},
   "source": [
    "### models：to(device)"
   ]
  },
  {
   "cell_type": "code",
   "execution_count": 12,
   "id": "1124b603",
   "metadata": {
    "ExecuteTime": {
     "end_time": "2023-05-20T02:49:59.383706Z",
     "start_time": "2023-05-20T02:49:59.368342Z"
    }
   },
   "outputs": [
    {
     "name": "stdout",
     "output_type": "stream",
     "text": [
      "False\n",
      "True\n",
      "True\n"
     ]
    }
   ],
   "source": [
    "a = Model(3, 4)\n",
    "print(next(a.parameters()).is_cuda)\n",
    "b = a.to('cuda:0')\n",
    "print(next(a.parameters()).is_cuda)\n",
    "print(next(b.parameters()).is_cuda)\n",
    "# a and b point to the same model "
   ]
  },
  {
   "cell_type": "markdown",
   "id": "b27643bf",
   "metadata": {},
   "source": [
    "## run the model (forward)"
   ]
  },
  {
   "cell_type": "code",
   "execution_count": 13,
   "id": "f430f2d4",
   "metadata": {
    "ExecuteTime": {
     "end_time": "2023-05-20T02:51:41.058169Z",
     "start_time": "2023-05-20T02:51:37.897690Z"
    }
   },
   "outputs": [
    {
     "name": "stdout",
     "output_type": "stream",
     "text": [
      "\tIn Model: input size torch.Size([15, 5]) output size torch.Size([15, 2])\n",
      "\tIn Model: input size torch.Size([15, 5]) output size torch.Size([15, 2])\n",
      "Outside: input size torch.Size([30, 5]) output_size torch.Size([30, 2])\n",
      "\tIn Model: input size torch.Size([15, 5]) output size torch.Size([15, 2])\n",
      "\tIn Model: input size torch.Size([15, 5]) output size torch.Size([15, 2])\n",
      "Outside: input size torch.Size([30, 5]) output_size torch.Size([30, 2])\n",
      "\tIn Model: input size torch.Size([15, 5]) output size torch.Size([15, 2])\n",
      "\tIn Model: input size torch.Size([15, 5]) output size torch.Size([15, 2])\n",
      "Outside: input size torch.Size([30, 5]) output_size torch.Size([30, 2])\n",
      "\tIn Model: input size torch.Size([5, 5]) output size torch.Size([5, 2])\n",
      "\tIn Model: input size torch.Size([5, 5]) output size torch.Size([5, 2])\n",
      "Outside: input size torch.Size([10, 5]) output_size torch.Size([10, 2])\n"
     ]
    }
   ],
   "source": [
    "for data in rand_loader:\n",
    "    # input_var can be on any device, including CPU\n",
    "    input = data.to(device)\n",
    "#     input = data\n",
    "    output = model(input)\n",
    "    print(\"Outside: input size\", input.size(),\n",
    "          \"output_size\", output.size())"
   ]
  },
  {
   "cell_type": "code",
   "execution_count": null,
   "id": "ccaca008",
   "metadata": {},
   "outputs": [],
   "source": []
  }
 ],
 "metadata": {
  "kernelspec": {
   "display_name": "Python 3 (ipykernel)",
   "language": "python",
   "name": "python3"
  },
  "language_info": {
   "codemirror_mode": {
    "name": "ipython",
    "version": 3
   },
   "file_extension": ".py",
   "mimetype": "text/x-python",
   "name": "python",
   "nbconvert_exporter": "python",
   "pygments_lexer": "ipython3",
   "version": "3.10.9"
  },
  "toc": {
   "base_numbering": 1,
   "nav_menu": {},
   "number_sections": true,
   "sideBar": true,
   "skip_h1_title": false,
   "title_cell": "Table of Contents",
   "title_sidebar": "Contents",
   "toc_cell": false,
   "toc_position": {
    "height": "calc(100% - 180px)",
    "left": "10px",
    "top": "150px",
    "width": "207px"
   },
   "toc_section_display": true,
   "toc_window_display": true
  }
 },
 "nbformat": 4,
 "nbformat_minor": 5
}
