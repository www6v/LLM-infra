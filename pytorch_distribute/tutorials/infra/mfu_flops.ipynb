{
 "cells": [
  {
   "cell_type": "code",
   "execution_count": 1,
   "id": "b5940ee0-e20d-4b00-a15f-a4933fb9c7c9",
   "metadata": {
    "execution": {
     "iopub.execute_input": "2025-02-22T11:40:02.314968Z",
     "iopub.status.busy": "2025-02-22T11:40:02.314169Z",
     "iopub.status.idle": "2025-02-22T11:40:03.867579Z",
     "shell.execute_reply": "2025-02-22T11:40:03.866699Z",
     "shell.execute_reply.started": "2025-02-22T11:40:02.314912Z"
    }
   },
   "outputs": [],
   "source": [
    "import torch"
   ]
  },
  {
   "cell_type": "markdown",
   "id": "eaf56b60-954c-4a32-82ca-7e07e046927d",
   "metadata": {},
   "source": [
    "- mfu：Model FLOPS Utilization\n",
    "    - 评估GPU算力利用率"
   ]
  },
  {
   "cell_type": "markdown",
   "id": "d7534b13-4b15-4466-af37-0a498f1e67e3",
   "metadata": {},
   "source": [
    "- h100 & h800\n",
    "- A100 & A800\n",
    "- L40 > H20 > L20"
   ]
  },
  {
   "cell_type": "code",
   "execution_count": 2,
   "id": "35448c30-2b08-4d36-8a38-01d548b33421",
   "metadata": {
    "execution": {
     "iopub.execute_input": "2025-02-22T11:40:14.532129Z",
     "iopub.status.busy": "2025-02-22T11:40:14.531649Z",
     "iopub.status.idle": "2025-02-22T11:40:14.539762Z",
     "shell.execute_reply": "2025-02-22T11:40:14.538386Z",
     "shell.execute_reply.started": "2025-02-22T11:40:14.532107Z"
    }
   },
   "outputs": [],
   "source": [
    "def get_device_flops(unit=\"T\"):\n",
    "    def unit_convert(number, level):\n",
    "        units = [\"B\", \"K\", \"M\", \"G\", \"T\", \"P\"]\n",
    "        if number <= 0:\n",
    "            return number\n",
    "        ptr = 0\n",
    "        while ptr < len(units) and units[ptr] != level:\n",
    "            number /= 1000\n",
    "            ptr += 1\n",
    "        return number\n",
    "    device_name = torch.cuda.get_device_name()\n",
    "    flops = float(\"inf\")  # INF flops for unkown gpu type\n",
    "    if \"H100\" in device_name or \"H800\" in device_name:\n",
    "        flops = 989e12\n",
    "    elif \"A100\" in device_name or \"A800\" in device_name:\n",
    "        flops = 312e12\n",
    "    elif \"L40\" in device_name:\n",
    "        flops = 181.05e12\n",
    "    elif \"L20\" in device_name:\n",
    "        flops = 119.5e12\n",
    "    elif \"H20\" in device_name:\n",
    "        flops = 148e12\n",
    "    elif \"910B\" in device_name:\n",
    "        flops = 354e12\n",
    "    flops_unit = unit_convert(flops, unit)\n",
    "    return flops_unit"
   ]
  },
  {
   "cell_type": "code",
   "execution_count": 3,
   "id": "3771cd34-c9a4-4194-b7a2-9824cfb5c5b5",
   "metadata": {
    "execution": {
     "iopub.execute_input": "2025-02-22T11:40:19.062660Z",
     "iopub.status.busy": "2025-02-22T11:40:19.061478Z",
     "iopub.status.idle": "2025-02-22T11:40:19.128933Z",
     "shell.execute_reply": "2025-02-22T11:40:19.127632Z",
     "shell.execute_reply.started": "2025-02-22T11:40:19.062610Z"
    }
   },
   "outputs": [
    {
     "data": {
      "text/plain": [
       "inf"
      ]
     },
     "execution_count": 3,
     "metadata": {},
     "output_type": "execute_result"
    }
   ],
   "source": [
    "get_device_flops()"
   ]
  },
  {
   "cell_type": "code",
   "execution_count": null,
   "id": "7e6f47a3-8d92-4be1-ae4c-2da7e5589583",
   "metadata": {},
   "outputs": [],
   "source": []
  }
 ],
 "metadata": {
  "kernelspec": {
   "display_name": "Python 3 (ipykernel)",
   "language": "python",
   "name": "python3"
  },
  "language_info": {
   "codemirror_mode": {
    "name": "ipython",
    "version": 3
   },
   "file_extension": ".py",
   "mimetype": "text/x-python",
   "name": "python",
   "nbconvert_exporter": "python",
   "pygments_lexer": "ipython3",
   "version": "3.10.13"
  }
 },
 "nbformat": 4,
 "nbformat_minor": 5
}
