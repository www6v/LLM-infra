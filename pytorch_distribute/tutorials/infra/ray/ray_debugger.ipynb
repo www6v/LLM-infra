{
 "cells": [
  {
   "cell_type": "markdown",
   "id": "823f1c39-6009-4186-a8ae-4542c1f5d75f",
   "metadata": {},
   "source": [
    "- https://docs.ray.io/en/latest/ray-observability/ray-distributed-debugger.html\n",
    "    - `pip install debugpy==1.8.0` ??"
   ]
  },
  {
   "cell_type": "markdown",
   "id": "d8773aab-4950-41b3-97b5-3070affb2c7e",
   "metadata": {},
   "source": [
    "```\n",
    "import ray\n",
    "import sys\n",
    "\n",
    "# Add RAY_DEBUG environment variable to enable Ray Debugger\n",
    "ray.init(runtime_env={\n",
    "    \"env_vars\": {\"RAY_DEBUG\": \"1\"}, \n",
    "})\n",
    "\n",
    "@ray.remote\n",
    "def my_task(x):\n",
    "    y = x * x\n",
    "    breakpoint() # Add a breakpoint in the ray task\n",
    "    return y\n",
    "\n",
    "@ray.remote\n",
    "def post_mortem(x):\n",
    "    x += 1\n",
    "    raise Exception(\"An exception is raised\")\n",
    "    return x\n",
    "\n",
    "if len(sys.argv) == 1:\n",
    "    ray.get(my_task.remote(10))\n",
    "else:\n",
    "    ray.get(post_mortem.remote(10))\n",
    "```"
   ]
  }
 ],
 "metadata": {
  "kernelspec": {
   "display_name": "Python 3 (ipykernel)",
   "language": "python",
   "name": "python3"
  },
  "language_info": {
   "codemirror_mode": {
    "name": "ipython",
    "version": 3
   },
   "file_extension": ".py",
   "mimetype": "text/x-python",
   "name": "python",
   "nbconvert_exporter": "python",
   "pygments_lexer": "ipython3",
   "version": "3.10.13"
  }
 },
 "nbformat": 4,
 "nbformat_minor": 5
}
