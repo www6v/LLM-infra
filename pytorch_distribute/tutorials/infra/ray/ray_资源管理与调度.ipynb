{
 "cells": [
  {
   "cell_type": "markdown",
   "id": "36173685-2c13-4c33-86d9-ef537cc9dd73",
   "metadata": {},
   "source": [
    "- 高效通信和任务调度\n",
    "    - ray scheduling: https://docs.ray.io/en/latest/ray-core/scheduling/index.html"
   ]
  }
 ],
 "metadata": {
  "kernelspec": {
   "display_name": "Python 3 (ipykernel)",
   "language": "python",
   "name": "python3"
  },
  "language_info": {
   "codemirror_mode": {
    "name": "ipython",
    "version": 3
   },
   "file_extension": ".py",
   "mimetype": "text/x-python",
   "name": "python",
   "nbconvert_exporter": "python",
   "pygments_lexer": "ipython3",
   "version": "3.10.13"
  }
 },
 "nbformat": 4,
 "nbformat_minor": 5
}
