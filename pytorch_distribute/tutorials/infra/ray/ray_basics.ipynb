{
 "cells": [
  {
   "cell_type": "code",
   "execution_count": 2,
   "id": "44b82127-b91e-4ff0-8785-680b027f8075",
   "metadata": {
    "execution": {
     "iopub.execute_input": "2025-02-17T14:39:24.689777Z",
     "iopub.status.busy": "2025-02-17T14:39:24.689496Z",
     "iopub.status.idle": "2025-02-17T14:39:24.697483Z",
     "shell.execute_reply": "2025-02-17T14:39:24.695485Z",
     "shell.execute_reply.started": "2025-02-17T14:39:24.689756Z"
    }
   },
   "outputs": [],
   "source": [
    "from IPython.display import Image"
   ]
  },
  {
   "cell_type": "markdown",
   "id": "7718836e-106a-4b60-b4a6-516c20ead168",
   "metadata": {},
   "source": [
    "- 统一的 (面相 ai 的) e2e 的分布式架构\n",
    "    - https://www.youtube.com/watch?v=oH9pJavu-PU"
   ]
  },
  {
   "cell_type": "code",
   "execution_count": 3,
   "id": "fceacacd-df17-4e46-ae10-0094766446c1",
   "metadata": {
    "execution": {
     "iopub.execute_input": "2025-02-17T14:39:26.164784Z",
     "iopub.status.busy": "2025-02-17T14:39:26.164182Z",
     "iopub.status.idle": "2025-02-17T14:39:26.182776Z",
     "shell.execute_reply": "2025-02-17T14:39:26.180677Z",
     "shell.execute_reply.started": "2025-02-17T14:39:26.164735Z"
    },
    "scrolled": true
   },
   "outputs": [
    {
     "data": {
      "text/html": [
       "<img src=\"https://docs.ray.io/en/latest/_images/ray-air.svg\" width=\"400\"/>"
      ],
      "text/plain": [
       "<IPython.core.display.Image object>"
      ]
     },
     "execution_count": 3,
     "metadata": {},
     "output_type": "execute_result"
    }
   ],
   "source": [
    "Image(url='https://docs.ray.io/en/latest/_images/ray-air.svg', width=400)"
   ]
  },
  {
   "cell_type": "markdown",
   "id": "e336a544-db1a-46e1-aac7-8cde03d8b707",
   "metadata": {},
   "source": [
    "## core api"
   ]
  },
  {
   "cell_type": "code",
   "execution_count": 4,
   "id": "af274ae5-c623-4c74-93a2-020e7bb09855",
   "metadata": {
    "execution": {
     "iopub.execute_input": "2025-02-17T14:39:27.632316Z",
     "iopub.status.busy": "2025-02-17T14:39:27.631731Z",
     "iopub.status.idle": "2025-02-17T14:39:27.643710Z",
     "shell.execute_reply": "2025-02-17T14:39:27.641631Z",
     "shell.execute_reply.started": "2025-02-17T14:39:27.632269Z"
    }
   },
   "outputs": [
    {
     "data": {
      "text/html": [
       "<img src=\"./imgs/ray_1.png\" width=\"400\"/>"
      ],
      "text/plain": [
       "<IPython.core.display.Image object>"
      ]
     },
     "execution_count": 4,
     "metadata": {},
     "output_type": "execute_result"
    }
   ],
   "source": [
    "Image(url='./imgs/ray_1.png', width=400)"
   ]
  },
  {
   "cell_type": "code",
   "execution_count": 5,
   "id": "dc371a37-5664-4d6f-bfd5-f46d7878ed67",
   "metadata": {
    "execution": {
     "iopub.execute_input": "2025-02-17T14:39:29.716399Z",
     "iopub.status.busy": "2025-02-17T14:39:29.715829Z",
     "iopub.status.idle": "2025-02-17T14:39:29.727699Z",
     "shell.execute_reply": "2025-02-17T14:39:29.725596Z",
     "shell.execute_reply.started": "2025-02-17T14:39:29.716351Z"
    }
   },
   "outputs": [
    {
     "data": {
      "text/html": [
       "<img src=\"./imgs/ray_2.png\" width=\"400\"/>"
      ],
      "text/plain": [
       "<IPython.core.display.Image object>"
      ]
     },
     "execution_count": 5,
     "metadata": {},
     "output_type": "execute_result"
    }
   ],
   "source": [
    "Image(url='./imgs/ray_2.png', width=400)"
   ]
  },
  {
   "cell_type": "code",
   "execution_count": 6,
   "id": "0d5c257f-052f-4460-b399-a53c31fb5f01",
   "metadata": {
    "execution": {
     "iopub.execute_input": "2025-02-17T14:39:31.695943Z",
     "iopub.status.busy": "2025-02-17T14:39:31.695330Z",
     "iopub.status.idle": "2025-02-17T14:39:31.707777Z",
     "shell.execute_reply": "2025-02-17T14:39:31.705515Z",
     "shell.execute_reply.started": "2025-02-17T14:39:31.695894Z"
    }
   },
   "outputs": [
    {
     "data": {
      "text/html": [
       "<img src=\"./imgs/ray_3.png\" width=\"400\"/>"
      ],
      "text/plain": [
       "<IPython.core.display.Image object>"
      ]
     },
     "execution_count": 6,
     "metadata": {},
     "output_type": "execute_result"
    }
   ],
   "source": [
    "Image(url='./imgs/ray_3.png', width=400)"
   ]
  },
  {
   "cell_type": "code",
   "execution_count": 7,
   "id": "dc15ecc9-faf8-425d-8d31-94ccc26679d3",
   "metadata": {
    "execution": {
     "iopub.execute_input": "2025-02-17T14:39:34.129588Z",
     "iopub.status.busy": "2025-02-17T14:39:34.128987Z",
     "iopub.status.idle": "2025-02-17T14:39:34.141216Z",
     "shell.execute_reply": "2025-02-17T14:39:34.139093Z",
     "shell.execute_reply.started": "2025-02-17T14:39:34.129540Z"
    }
   },
   "outputs": [
    {
     "data": {
      "text/html": [
       "<img src=\"./imgs/ray_4.png\" width=\"400\"/>"
      ],
      "text/plain": [
       "<IPython.core.display.Image object>"
      ]
     },
     "execution_count": 7,
     "metadata": {},
     "output_type": "execute_result"
    }
   ],
   "source": [
    "Image(url='./imgs/ray_4.png', width=400)"
   ]
  },
  {
   "cell_type": "code",
   "execution_count": 8,
   "id": "5eeaf09c-9e5d-4df9-a58e-898cc97146f6",
   "metadata": {
    "execution": {
     "iopub.execute_input": "2025-02-17T14:39:35.556561Z",
     "iopub.status.busy": "2025-02-17T14:39:35.555948Z",
     "iopub.status.idle": "2025-02-17T14:39:35.568503Z",
     "shell.execute_reply": "2025-02-17T14:39:35.566299Z",
     "shell.execute_reply.started": "2025-02-17T14:39:35.556512Z"
    }
   },
   "outputs": [
    {
     "data": {
      "text/html": [
       "<img src=\"./imgs/ray_5.png\" width=\"400\"/>"
      ],
      "text/plain": [
       "<IPython.core.display.Image object>"
      ]
     },
     "execution_count": 8,
     "metadata": {},
     "output_type": "execute_result"
    }
   ],
   "source": [
    "Image(url='./imgs/ray_5.png', width=400)"
   ]
  },
  {
   "cell_type": "code",
   "execution_count": null,
   "id": "aa786f96-4401-4beb-95d4-ad75fd6a8525",
   "metadata": {},
   "outputs": [],
   "source": []
  }
 ],
 "metadata": {
  "kernelspec": {
   "display_name": "Python 3 (ipykernel)",
   "language": "python",
   "name": "python3"
  },
  "language_info": {
   "codemirror_mode": {
    "name": "ipython",
    "version": 3
   },
   "file_extension": ".py",
   "mimetype": "text/x-python",
   "name": "python",
   "nbconvert_exporter": "python",
   "pygments_lexer": "ipython3",
   "version": "3.10.13"
  }
 },
 "nbformat": 4,
 "nbformat_minor": 5
}
