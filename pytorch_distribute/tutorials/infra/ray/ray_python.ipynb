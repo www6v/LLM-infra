{
 "cells": [
  {
   "cell_type": "code",
   "execution_count": 1,
   "id": "9ed1279a-1d69-4536-969d-933a3b0f87f6",
   "metadata": {
    "execution": {
     "iopub.execute_input": "2025-02-23T02:37:43.414253Z",
     "iopub.status.busy": "2025-02-23T02:37:43.413742Z",
     "iopub.status.idle": "2025-02-23T02:37:43.817364Z",
     "shell.execute_reply": "2025-02-23T02:37:43.816058Z",
     "shell.execute_reply.started": "2025-02-23T02:37:43.414208Z"
    }
   },
   "outputs": [],
   "source": [
    "import ray"
   ]
  },
  {
   "cell_type": "code",
   "execution_count": 2,
   "id": "38dc7ad1-3bbb-4a17-92e2-ba6b100b2093",
   "metadata": {
    "execution": {
     "iopub.execute_input": "2025-02-23T02:37:43.818244Z",
     "iopub.status.busy": "2025-02-23T02:37:43.818033Z",
     "iopub.status.idle": "2025-02-23T02:37:43.824082Z",
     "shell.execute_reply": "2025-02-23T02:37:43.822801Z",
     "shell.execute_reply.started": "2025-02-23T02:37:43.818227Z"
    }
   },
   "outputs": [],
   "source": [
    "# ray.init()"
   ]
  },
  {
   "cell_type": "code",
   "execution_count": 3,
   "id": "97f5234d-78e7-4be7-ad12-51ddd2313872",
   "metadata": {
    "execution": {
     "iopub.execute_input": "2025-02-23T02:37:43.825058Z",
     "iopub.status.busy": "2025-02-23T02:37:43.824863Z",
     "iopub.status.idle": "2025-02-23T02:37:43.841551Z",
     "shell.execute_reply": "2025-02-23T02:37:43.839646Z",
     "shell.execute_reply.started": "2025-02-23T02:37:43.825042Z"
    }
   },
   "outputs": [],
   "source": [
    "# ray.nodes()"
   ]
  },
  {
   "cell_type": "markdown",
   "id": "5c20a757-93ce-4a65-afa8-13f274785e9d",
   "metadata": {},
   "source": [
    "### @ray.remote"
   ]
  },
  {
   "cell_type": "markdown",
   "id": "bb621bb4-3b04-42d4-aecf-c43796b6bc95",
   "metadata": {},
   "source": [
    "- Ray使用装饰器`@ray.remote` 来将 function 包装成 Ray task，将 class 包装成 Ray actor，包装过后的结果可以在远端并行执行。 "
   ]
  },
  {
   "cell_type": "markdown",
   "id": "0a730e9d-b3e6-42ef-be24-2533c6308770",
   "metadata": {},
   "source": [
    "### Ray Task"
   ]
  },
  {
   "cell_type": "code",
   "execution_count": 4,
   "id": "267430ad-6ae6-4e53-93f0-b62d7ddaa8a8",
   "metadata": {
    "execution": {
     "iopub.execute_input": "2025-02-23T02:37:43.843539Z",
     "iopub.status.busy": "2025-02-23T02:37:43.843099Z",
     "iopub.status.idle": "2025-02-23T02:37:43.953585Z",
     "shell.execute_reply": "2025-02-23T02:37:43.952952Z",
     "shell.execute_reply.started": "2025-02-23T02:37:43.843505Z"
    }
   },
   "outputs": [
    {
     "name": "stderr",
     "output_type": "stream",
     "text": [
      "2025-02-23 10:37:43,908\tINFO worker.py:1603 -- Connecting to existing Ray cluster at address: 192.168.101.16:6379...\n",
      "2025-02-23 10:37:43,921\tINFO worker.py:1779 -- Connected to Ray cluster. View the dashboard at \u001b[1m\u001b[32m127.0.0.1:8265 \u001b[39m\u001b[22m\n"
     ]
    }
   ],
   "source": [
    "import ray\n",
    "ray.init()\n",
    "\n",
    "@ray.remote\n",
    "def f(x):\n",
    "    return x * x"
   ]
  },
  {
   "cell_type": "code",
   "execution_count": 6,
   "id": "5780d0f6-12dd-48a6-bff4-df93c26b2320",
   "metadata": {
    "execution": {
     "iopub.execute_input": "2025-02-23T02:38:11.828623Z",
     "iopub.status.busy": "2025-02-23T02:38:11.827972Z",
     "iopub.status.idle": "2025-02-23T02:38:12.243492Z",
     "shell.execute_reply": "2025-02-23T02:38:12.241582Z",
     "shell.execute_reply.started": "2025-02-23T02:38:11.828577Z"
    }
   },
   "outputs": [
    {
     "name": "stdout",
     "output_type": "stream",
     "text": [
      "The final result is: [0, 1, 4, 9]\n"
     ]
    }
   ],
   "source": [
    "futures = [f.remote(i) for i in range(4)]\n",
    "# ===================================================================\n",
    "# 阻塞/同步操作：等待4个worker进程全部计算完毕\n",
    "# ===================================================================\n",
    "results = ray.get(futures) \n",
    "# ===================================================================\n",
    "# 确保全部计算完毕后，在driver进程上print结果\n",
    "# ===================================================================\n",
    "print(f\"The final result is: {results}\") # [0, 1, 4, 9]"
   ]
  },
  {
   "cell_type": "markdown",
   "id": "55c73622-609d-4541-bbb9-bcc861d05e40",
   "metadata": {},
   "source": [
    "### Ray Actor"
   ]
  },
  {
   "cell_type": "code",
   "execution_count": 7,
   "id": "0a62fd4f-89de-43b4-8078-d857a63a33b2",
   "metadata": {
    "execution": {
     "iopub.execute_input": "2025-02-23T02:38:51.152036Z",
     "iopub.status.busy": "2025-02-23T02:38:51.151389Z",
     "iopub.status.idle": "2025-02-23T02:38:51.165127Z",
     "shell.execute_reply": "2025-02-23T02:38:51.163256Z",
     "shell.execute_reply.started": "2025-02-23T02:38:51.151988Z"
    }
   },
   "outputs": [],
   "source": [
    "@ray.remote\n",
    "class Counter(object):\n",
    "    def __init__(self):\n",
    "        self.x = 0\n",
    "    \n",
    "    def inc(self):\n",
    "        self.x += 1\n",
    "    \n",
    "    def get_value(self):\n",
    "        return self.x"
   ]
  },
  {
   "cell_type": "code",
   "execution_count": 8,
   "id": "941ce263-9e9e-4ac7-a06f-4aa0c9cedf10",
   "metadata": {
    "execution": {
     "iopub.execute_input": "2025-02-23T02:39:00.986694Z",
     "iopub.status.busy": "2025-02-23T02:39:00.986024Z",
     "iopub.status.idle": "2025-02-23T02:39:01.011920Z",
     "shell.execute_reply": "2025-02-23T02:39:01.009931Z",
     "shell.execute_reply.started": "2025-02-23T02:39:00.986646Z"
    }
   },
   "outputs": [],
   "source": [
    "c = Counter.remote()"
   ]
  },
  {
   "cell_type": "code",
   "execution_count": 9,
   "id": "63671e6c-6ea6-4df4-80ce-10e27f3d1b3d",
   "metadata": {
    "execution": {
     "iopub.execute_input": "2025-02-23T02:39:03.294203Z",
     "iopub.status.busy": "2025-02-23T02:39:03.293590Z",
     "iopub.status.idle": "2025-02-23T02:39:03.311340Z",
     "shell.execute_reply": "2025-02-23T02:39:03.309525Z",
     "shell.execute_reply.started": "2025-02-23T02:39:03.294157Z"
    }
   },
   "outputs": [
    {
     "data": {
      "text/plain": [
       "Actor(Counter, 451074e9e1c90ff5f5bd0f7a03000000)"
      ]
     },
     "execution_count": 9,
     "metadata": {},
     "output_type": "execute_result"
    }
   ],
   "source": [
    "c"
   ]
  },
  {
   "cell_type": "code",
   "execution_count": 10,
   "id": "784d62bb-0b4e-4365-9f91-a7fceacba405",
   "metadata": {
    "execution": {
     "iopub.execute_input": "2025-02-23T02:39:21.499626Z",
     "iopub.status.busy": "2025-02-23T02:39:21.498965Z",
     "iopub.status.idle": "2025-02-23T02:39:21.712802Z",
     "shell.execute_reply": "2025-02-23T02:39:21.710216Z",
     "shell.execute_reply.started": "2025-02-23T02:39:21.499578Z"
    }
   },
   "outputs": [
    {
     "data": {
      "text/plain": [
       "0"
      ]
     },
     "execution_count": 10,
     "metadata": {},
     "output_type": "execute_result"
    }
   ],
   "source": [
    "ray.get(c.get_value.remote())"
   ]
  },
  {
   "cell_type": "code",
   "execution_count": 11,
   "id": "f0206406-0887-4c8a-9819-61cf88b72783",
   "metadata": {
    "execution": {
     "iopub.execute_input": "2025-02-23T02:39:28.978351Z",
     "iopub.status.busy": "2025-02-23T02:39:28.977790Z",
     "iopub.status.idle": "2025-02-23T02:39:28.989911Z",
     "shell.execute_reply": "2025-02-23T02:39:28.988155Z",
     "shell.execute_reply.started": "2025-02-23T02:39:28.978309Z"
    }
   },
   "outputs": [
    {
     "data": {
      "text/plain": [
       "ObjectRef(0ae631196af8e7cf451074e9e1c90ff5f5bd0f7a0300000001000000)"
      ]
     },
     "execution_count": 11,
     "metadata": {},
     "output_type": "execute_result"
    }
   ],
   "source": [
    "c.inc.remote()"
   ]
  },
  {
   "cell_type": "code",
   "execution_count": 12,
   "id": "87036ab1-053b-4d48-b686-88fefe414b05",
   "metadata": {
    "execution": {
     "iopub.execute_input": "2025-02-23T02:39:40.779135Z",
     "iopub.status.busy": "2025-02-23T02:39:40.778497Z",
     "iopub.status.idle": "2025-02-23T02:39:40.792737Z",
     "shell.execute_reply": "2025-02-23T02:39:40.791111Z",
     "shell.execute_reply.started": "2025-02-23T02:39:40.779088Z"
    }
   },
   "outputs": [
    {
     "data": {
      "text/plain": [
       "1"
      ]
     },
     "execution_count": 12,
     "metadata": {},
     "output_type": "execute_result"
    }
   ],
   "source": [
    "ray.get(c.get_value.remote())"
   ]
  },
  {
   "cell_type": "code",
   "execution_count": 13,
   "id": "a3e291bc-7f72-44f2-82c8-d8324461a55e",
   "metadata": {
    "execution": {
     "iopub.execute_input": "2025-02-23T02:39:46.073437Z",
     "iopub.status.busy": "2025-02-23T02:39:46.072816Z",
     "iopub.status.idle": "2025-02-23T02:39:46.086350Z",
     "shell.execute_reply": "2025-02-23T02:39:46.084125Z",
     "shell.execute_reply.started": "2025-02-23T02:39:46.073390Z"
    }
   },
   "outputs": [
    {
     "data": {
      "text/plain": [
       "ObjectRef(d1f8fccc5d0997ad451074e9e1c90ff5f5bd0f7a0300000001000000)"
      ]
     },
     "execution_count": 13,
     "metadata": {},
     "output_type": "execute_result"
    }
   ],
   "source": [
    "c.inc.remote()"
   ]
  },
  {
   "cell_type": "code",
   "execution_count": 14,
   "id": "b53c6a88-daea-4208-9d83-4ebf3e85ed08",
   "metadata": {
    "execution": {
     "iopub.execute_input": "2025-02-23T02:39:59.879854Z",
     "iopub.status.busy": "2025-02-23T02:39:59.879191Z",
     "iopub.status.idle": "2025-02-23T02:39:59.893160Z",
     "shell.execute_reply": "2025-02-23T02:39:59.891143Z",
     "shell.execute_reply.started": "2025-02-23T02:39:59.879808Z"
    }
   },
   "outputs": [
    {
     "data": {
      "text/plain": [
       "2"
      ]
     },
     "execution_count": 14,
     "metadata": {},
     "output_type": "execute_result"
    }
   ],
   "source": [
    "ray.get(c.get_value.remote())"
   ]
  },
  {
   "cell_type": "code",
   "execution_count": null,
   "id": "81dbcaed-2966-4ecf-ab74-5bc0146fdbb3",
   "metadata": {},
   "outputs": [],
   "source": []
  }
 ],
 "metadata": {
  "kernelspec": {
   "display_name": "Python 3 (ipykernel)",
   "language": "python",
   "name": "python3"
  },
  "language_info": {
   "codemirror_mode": {
    "name": "ipython",
    "version": 3
   },
   "file_extension": ".py",
   "mimetype": "text/x-python",
   "name": "python",
   "nbconvert_exporter": "python",
   "pygments_lexer": "ipython3",
   "version": "3.10.13"
  }
 },
 "nbformat": 4,
 "nbformat_minor": 5
}
