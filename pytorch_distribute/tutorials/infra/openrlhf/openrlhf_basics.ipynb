{
 "cells": [
  {
   "cell_type": "code",
   "execution_count": 1,
   "id": "e3366160-86a9-4886-a63a-02bf9cc55fac",
   "metadata": {
    "execution": {
     "iopub.execute_input": "2025-02-23T02:52:04.666883Z",
     "iopub.status.busy": "2025-02-23T02:52:04.666285Z",
     "iopub.status.idle": "2025-02-23T02:52:04.676284Z",
     "shell.execute_reply": "2025-02-23T02:52:04.674515Z",
     "shell.execute_reply.started": "2025-02-23T02:52:04.666837Z"
    }
   },
   "outputs": [],
   "source": [
    "from IPython.display import Image"
   ]
  },
  {
   "cell_type": "markdown",
   "id": "f992795b-056e-4867-aa62-7629b67bc1a4",
   "metadata": {},
   "source": [
    "### PPO 的四个module"
   ]
  },
  {
   "cell_type": "markdown",
   "id": "75e3c606-42d0-41a5-ad07-4e4c9ba9ec7c",
   "metadata": {},
   "source": [
    "- actor, critic, reference, reward\n",
    "    - 早期的 trl ppov1 实现，colocate actor/critic\n",
    "        - critic a mlp head;"
   ]
  },
  {
   "cell_type": "code",
   "execution_count": 3,
   "id": "b20402e6-d988-4738-b7df-bb2d070b7487",
   "metadata": {
    "execution": {
     "iopub.execute_input": "2025-02-17T14:46:04.627899Z",
     "iopub.status.busy": "2025-02-17T14:46:04.627285Z",
     "iopub.status.idle": "2025-02-17T14:46:04.639430Z",
     "shell.execute_reply": "2025-02-17T14:46:04.637342Z",
     "shell.execute_reply.started": "2025-02-17T14:46:04.627852Z"
    }
   },
   "outputs": [
    {
     "data": {
      "text/html": [
       "<img src=\"./imgs/openrlhf_ppo.png\" width=\"500\"/>"
      ],
      "text/plain": [
       "<IPython.core.display.Image object>"
      ]
     },
     "execution_count": 3,
     "metadata": {},
     "output_type": "execute_result"
    }
   ],
   "source": [
    "Image(url='./imgs/openrlhf_ppo.png', width=500)"
   ]
  },
  {
   "cell_type": "code",
   "execution_count": 4,
   "id": "d80fe8b6-7539-4201-b09e-eabed4222f2f",
   "metadata": {
    "execution": {
     "iopub.execute_input": "2025-02-17T14:47:22.185745Z",
     "iopub.status.busy": "2025-02-17T14:47:22.185167Z",
     "iopub.status.idle": "2025-02-17T14:47:22.198500Z",
     "shell.execute_reply": "2025-02-17T14:47:22.196344Z",
     "shell.execute_reply.started": "2025-02-17T14:47:22.185700Z"
    }
   },
   "outputs": [
    {
     "data": {
      "text/html": [
       "<img src=\"./imgs/openrlhf_flow.png\" width=\"500\"/>"
      ],
      "text/plain": [
       "<IPython.core.display.Image object>"
      ]
     },
     "execution_count": 4,
     "metadata": {},
     "output_type": "execute_result"
    }
   ],
   "source": [
    "Image(url='./imgs/openrlhf_flow.png', width=500)"
   ]
  },
  {
   "cell_type": "markdown",
   "id": "f771d18a-555c-4d40-b661-175641dd2f64",
   "metadata": {},
   "source": [
    "### 代码细节"
   ]
  },
  {
   "cell_type": "markdown",
   "id": "83e0e070-7b27-493c-9a36-b9ade183cbfc",
   "metadata": {},
   "source": [
    "- 训练入口\n",
    "    - train_ppo_ray.py\n",
    "- 在main中我们启动了driver进程，并执行训练函数train(args)，这里主要做了如下几件事：\n",
    "    - 在 ray 集群上部署 Actor/Ref/Critic/RM 实例\n",
    "    - 在 ray 集群上部署 vllm_engines 实例\n",
    "    - 配置 Actor 和 vllm_engines 之间的通讯，用于传递权重\n",
    "    - 训练 Actor 和 Critic 模型\n",
    "- 谈到“Actor”时，会使用Ray-Actor和PPO-Actor来做区分，从之前的介绍中可知，Ray-Actor是指部署在Ray集群中的远端class，PPO-Actor/Ref/Critic/RM都属于Ray-Actor。\n",
    "- colocate_actor_ref\n",
    "    - 是否共同部署；\n",
    "    - `num_gpus_per_actor=0.75 if pg else 1,`\n",
    "    - 当我们在pg（placement group）指向的预留资源中分配模型实例时，再进一步指定每个实例占据一张gpu的多少部分\n",
    "        - 等于1说明每个实例占满一张gpu，即“非共同部署”\n",
    "        - 小于1说明每个实例只占部分gpu，即“共同部署”，例如PPO-Actor/Ref共同部署在一张卡上\n",
    "\n",
    "```\n",
    "# NOTE(wuxibin): Why don't we allocate 0.5 gpu for each actor when colocate models?\n",
    "# Say we have 1 node with 4 GPUs, and num_gpus_per_node for each model is 4.\n",
    "# If we allocate 0.5 gpu for both actor and ref model, then gpu allocation is\n",
    "#   |actor|actor|actor|actor|  ref | ref  | ref  | ref |\n",
    "#   |GPU0 |GPU0 |GPU1 |GPU1 | GPU2 | GPU2 | GPU3 | GPU3 |\n",
    "#\n",
    "# So 0.75/0.25 gpu is a tricky to let Ray spread all models evenly on all gpus.\n",
    "#   |actor| ref  |actor| ref  |actor| ref  |actor|ref  |\n",
    "#   |GPU0 | GPU0 |GPU1 | GPU1 |GPU2 | GPU2 |GPU3 | GPU3 |\n",
    "```"
   ]
  },
  {
   "cell_type": "code",
   "execution_count": 3,
   "id": "5f554ca9-3272-4da7-920a-13bc66762e80",
   "metadata": {
    "execution": {
     "iopub.execute_input": "2025-02-23T02:52:16.814832Z",
     "iopub.status.busy": "2025-02-23T02:52:16.814185Z",
     "iopub.status.idle": "2025-02-23T02:52:16.826479Z",
     "shell.execute_reply": "2025-02-23T02:52:16.824848Z",
     "shell.execute_reply.started": "2025-02-23T02:52:16.814783Z"
    }
   },
   "outputs": [
    {
     "data": {
      "text/html": [
       "<img src=\"https://pic3.zhimg.com/v2-a7445701e230850618a1a055ad9a8cec_r.jpg\" width=\"600\"/>"
      ],
      "text/plain": [
       "<IPython.core.display.Image object>"
      ]
     },
     "execution_count": 3,
     "metadata": {},
     "output_type": "execute_result"
    }
   ],
   "source": [
    "Image(url='https://pic3.zhimg.com/v2-a7445701e230850618a1a055ad9a8cec_r.jpg', width=600)"
   ]
  },
  {
   "cell_type": "markdown",
   "id": "2bf35a7d-5aed-46b1-a76b-f86346edee4e",
   "metadata": {},
   "source": [
    "- PPORayActorGroup中维护着self._actor_handlers，它是一个List[ray.actor.ActorHandle]，列表中每个元素表示某个远端Ray-Actor的引用，而这个远端Ray-Actor可以是PPO-Actor/Ref/Critic/RM实例。如前文所说，我们可以在ray集群中的任何位置调用这个handler，来对相应的远端Ray-Actor执行操作。"
   ]
  },
  {
   "cell_type": "markdown",
   "id": "228a2b30-d6d2-4c68-bd38-afcfbc41f70c",
   "metadata": {},
   "source": [
    "### scripts"
   ]
  },
  {
   "cell_type": "markdown",
   "id": "21a58614-9444-4b07-a925-bc68dacd4fb9",
   "metadata": {},
   "source": [
    "- openrlhf.cli.train_ppo_ray\n",
    "    - actor_num_gpus_per_node\n",
    "    - ref_num_gpus_per_node\n",
    "    - critic_num_gpus_per_node（经典 ppo，GRPO/RLOO 不再需要）\n",
    "    - reward_num_gpus_per_node（经典 ppo，GRPO/RLOO 不再需要）\n",
    "    - vllm_num_engines"
   ]
  }
 ],
 "metadata": {
  "kernelspec": {
   "display_name": "Python 3 (ipykernel)",
   "language": "python",
   "name": "python3"
  },
  "language_info": {
   "codemirror_mode": {
    "name": "ipython",
    "version": 3
   },
   "file_extension": ".py",
   "mimetype": "text/x-python",
   "name": "python",
   "nbconvert_exporter": "python",
   "pygments_lexer": "ipython3",
   "version": "3.10.13"
  }
 },
 "nbformat": 4,
 "nbformat_minor": 5
}
