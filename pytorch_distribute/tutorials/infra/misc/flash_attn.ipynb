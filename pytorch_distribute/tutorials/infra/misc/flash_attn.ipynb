{
 "cells": [
  {
   "cell_type": "markdown",
   "id": "eddac2c9-cbb5-49f4-8409-2dfeafcc72b0",
   "metadata": {},
   "source": [
    "- 注意安装时，一定要先看下 ninja 是否已经安装；需要保证其已经安装\n",
    "    - 安装过程中可以用 `btop` 命令看 cpu 进程编译的过程（依赖 ninja，如果不安装 ninja 的话，将只有非常有限的 cpu 进程来 compile）\n",
    "        - https://github.com/Dao-AILab/flash-attention?tab=readme-ov-file#installation-and-features\n",
    "        - Without ninja, compiling can take a very long time (2h) since it does not use multiple CPU cores. With ninja compiling takes 3-5 minutes on a 64-core machine using CUDA toolkit."
   ]
  }
 ],
 "metadata": {
  "kernelspec": {
   "display_name": "Python 3 (ipykernel)",
   "language": "python",
   "name": "python3"
  },
  "language_info": {
   "codemirror_mode": {
    "name": "ipython",
    "version": 3
   },
   "file_extension": ".py",
   "mimetype": "text/x-python",
   "name": "python",
   "nbconvert_exporter": "python",
   "pygments_lexer": "ipython3",
   "version": "3.10.13"
  }
 },
 "nbformat": 4,
 "nbformat_minor": 5
}
