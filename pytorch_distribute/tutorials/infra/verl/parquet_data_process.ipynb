{
 "cells": [
  {
   "cell_type": "markdown",
   "id": "aa98385e-63e2-4bb4-93d8-9b28c7446f6d",
   "metadata": {},
   "source": [
    "## parquet"
   ]
  },
  {
   "cell_type": "markdown",
   "id": "75e12482-3993-45ed-beb0-9651b7a2bf1c",
   "metadata": {},
   "source": [
    "- 行式存储：传统的存储格式（如 CSV、JSON）通常按行存储数据，即每行的所有列数据连续存储在一起。这种格式适合事务处理（OLTP）场景，但在分析查询（OLAP）中，由于需要读取整行数据，即使只查询部分列，效率较低。\n",
    "- 列式存储：Parquet 按列存储数据，即将同一列的数据连续存储在一起。这种格式在分析查询中非常高效，因为查询通常只涉及部分列，列式存储可以大幅减少 I/O 操作，提高查询性能。"
   ]
  },
  {
   "cell_type": "markdown",
   "id": "731bda7e-47cb-4c1c-bce7-8517c6b380f5",
   "metadata": {},
   "source": [
    "### data_process"
   ]
  },
  {
   "cell_type": "markdown",
   "id": "c722930b-981a-4c3b-ba55-a513e6f388b7",
   "metadata": {},
   "source": [
    "- exampels/gsm8k.py\n",
    "    ```\n",
    "    data = {\n",
    "        \"data_source\": data_source,\n",
    "        \"prompt\": [{\n",
    "            \"role\": \"user\",\n",
    "            \"content\": question,\n",
    "        }],\n",
    "        \"ability\": \"math\",\n",
    "        \"reward_model\": {\n",
    "            \"style\": \"rule\",\n",
    "            \"ground_truth\": solution\n",
    "        },\n",
    "        \"extra_info\": {\n",
    "            'split': split,\n",
    "            'index': idx,\n",
    "            'answer': answer_raw,\n",
    "            \"question\": question_raw,\n",
    "        }\n",
    "    }\n",
    "    ```"
   ]
  }
 ],
 "metadata": {
  "kernelspec": {
   "display_name": "Python 3 (ipykernel)",
   "language": "python",
   "name": "python3"
  },
  "language_info": {
   "codemirror_mode": {
    "name": "ipython",
    "version": 3
   },
   "file_extension": ".py",
   "mimetype": "text/x-python",
   "name": "python",
   "nbconvert_exporter": "python",
   "pygments_lexer": "ipython3",
   "version": "3.10.13"
  }
 },
 "nbformat": 4,
 "nbformat_minor": 5
}
