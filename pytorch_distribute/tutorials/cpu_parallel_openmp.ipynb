{
 "cells": [
  {
   "cell_type": "markdown",
   "id": "a811af62",
   "metadata": {},
   "source": [
    "## openmp"
   ]
  },
  {
   "cell_type": "markdown",
   "id": "1aa6f93d",
   "metadata": {},
   "source": [
    "- `OMP_NUM_THREADS`\n",
    "    - 一个环境变量，用于指定在使用基于 OpenMP 的程序时并行区域内可用的线程数。\n",
    "    - OpenMP 是一种支持多平台共享内存并行编程的API"
   ]
  },
  {
   "cell_type": "markdown",
   "id": "855a09d0",
   "metadata": {},
   "source": [
    "### torchrun (`torch.distributed.run`)"
   ]
  },
  {
   "cell_type": "markdown",
   "id": "82380c85",
   "metadata": {},
   "source": [
    "- `pytorch.torch.distributed.run.py`\n",
    "    - 不指定时，默认为1\n",
    "\n",
    "```\n",
    "if \"OMP_NUM_THREADS\" not in os.environ and nproc_per_node > 1:\n",
    "    omp_num_threads = 1\n",
    "    log.warning(\n",
    "        \"\\n*****************************************\\n\"\n",
    "        \"Setting OMP_NUM_THREADS environment variable for each process to be \"\n",
    "        \"%s in default, to avoid your system being overloaded, \"\n",
    "        \"please further tune the variable for optimal performance in \"\n",
    "        \"your application as needed. \\n\"\n",
    "        \"*****************************************\",\n",
    "        omp_num_threads\n",
    "    )\n",
    "    # This env variable will be passed down to the subprocesses\n",
    "    os.environ[\"OMP_NUM_THREADS\"] = str(omp_num_threads)\n",
    "\n",
    "```"
   ]
  },
  {
   "cell_type": "markdown",
   "id": "8e175e83",
   "metadata": {},
   "source": [
    "- 建议？\n",
    "\n",
    "```\n",
    "if 'OMP_NUM_THREADS' not in os.environ:\n",
    "    current_env[\"OMP_NUM_THREADS\"] = str(int(multiprocessing.cpu_count() / args.nproc_per_node))\n",
    "```"
   ]
  },
  {
   "cell_type": "code",
   "execution_count": 1,
   "id": "0bf6f294",
   "metadata": {
    "ExecuteTime": {
     "end_time": "2024-02-19T12:38:06.708852Z",
     "start_time": "2024-02-19T12:38:06.693948Z"
    }
   },
   "outputs": [
    {
     "data": {
      "text/plain": [
       "64"
      ]
     },
     "execution_count": 1,
     "metadata": {},
     "output_type": "execute_result"
    }
   ],
   "source": [
    "import multiprocessing as mp\n",
    "mp.cpu_count()"
   ]
  },
  {
   "cell_type": "code",
   "execution_count": null,
   "id": "6dbb3f3e",
   "metadata": {},
   "outputs": [],
   "source": []
  }
 ],
 "metadata": {
  "kernelspec": {
   "display_name": "Python 3 (ipykernel)",
   "language": "python",
   "name": "python3"
  },
  "language_info": {
   "codemirror_mode": {
    "name": "ipython",
    "version": 3
   },
   "file_extension": ".py",
   "mimetype": "text/x-python",
   "name": "python",
   "nbconvert_exporter": "python",
   "pygments_lexer": "ipython3",
   "version": "3.10.13"
  },
  "toc": {
   "base_numbering": 1,
   "nav_menu": {},
   "number_sections": true,
   "sideBar": true,
   "skip_h1_title": false,
   "title_cell": "Table of Contents",
   "title_sidebar": "Contents",
   "toc_cell": false,
   "toc_position": {},
   "toc_section_display": true,
   "toc_window_display": false
  }
 },
 "nbformat": 4,
 "nbformat_minor": 5
}
