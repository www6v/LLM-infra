{
 "cells": [
  {
   "cell_type": "markdown",
   "id": "36a05037",
   "metadata": {},
   "source": [
    "## 梯度更新"
   ]
  },
  {
   "cell_type": "markdown",
   "id": "89e7a91c",
   "metadata": {},
   "source": [
    "假设全局批处理大小（global batch size）为4。单卡场景下：\n",
    "\n",
    "$$\n",
    "g_{\\text{avg}}=\\frac{g_1+g_2+g_3+g_4}{4}\n",
    "$$\n",
    "\n",
    "使用两张GPU卡，那么每张卡的批处理大小（local batch size）为2。这意味着每张卡独立计算自己的梯度（分别是$g_{\\text{local}1}$ 和 $g_{\\text{local}2}$）。使用all-reduce操作后，每张卡都会得到所有梯度的平均值，即：\n",
    "\n",
    "$$\n",
    "g_{\\text{avg}} = \\frac{g_{\\text{local}1}+g_{\\text{local}2}}{2}\\\\\n",
    "g_{\\text{local}1}=\\frac{g_1+g_2}{2}\\\\\n",
    "g_{\\text{local}2}=\\frac{g_3+g_4}{2}\\\\\n",
    "$$\n",
    "\n",
    "- 分布式场景下的梯度汇集使用的是 all-reduce 这样的通信操作\n",
    "    - all-reduce 不直接取平均，\n",
    "    - 先聚合（求和）再手动平均；"
   ]
  }
 ],
 "metadata": {
  "kernelspec": {
   "display_name": "Python 3 (ipykernel)",
   "language": "python",
   "name": "python3"
  },
  "language_info": {
   "codemirror_mode": {
    "name": "ipython",
    "version": 3
   },
   "file_extension": ".py",
   "mimetype": "text/x-python",
   "name": "python",
   "nbconvert_exporter": "python",
   "pygments_lexer": "ipython3",
   "version": "3.10.13"
  },
  "toc": {
   "base_numbering": 1,
   "nav_menu": {},
   "number_sections": true,
   "sideBar": true,
   "skip_h1_title": false,
   "title_cell": "Table of Contents",
   "title_sidebar": "Contents",
   "toc_cell": false,
   "toc_position": {},
   "toc_section_display": true,
   "toc_window_display": false
  }
 },
 "nbformat": 4,
 "nbformat_minor": 5
}
