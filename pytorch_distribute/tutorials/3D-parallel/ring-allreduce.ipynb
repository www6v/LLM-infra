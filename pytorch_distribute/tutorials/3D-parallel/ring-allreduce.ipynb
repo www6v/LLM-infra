{
 "cells": [
  {
   "cell_type": "code",
   "execution_count": 9,
   "id": "0c70d2c4-5cb7-4b9b-849f-230afaa8692e",
   "metadata": {
    "execution": {
     "iopub.execute_input": "2025-04-24T15:06:15.469668Z",
     "iopub.status.busy": "2025-04-24T15:06:15.469053Z",
     "iopub.status.idle": "2025-04-24T15:06:15.478607Z",
     "shell.execute_reply": "2025-04-24T15:06:15.476252Z",
     "shell.execute_reply.started": "2025-04-24T15:06:15.469610Z"
    }
   },
   "outputs": [],
   "source": [
    "from IPython.display import Image"
   ]
  },
  {
   "cell_type": "markdown",
   "id": "aaec1bd1-51e5-4e42-9a57-027e0671a7c4",
   "metadata": {},
   "source": [
    "- N 张卡组成一个 ring 环，计算步数，2(N-1)\n",
    "    - scatter-reduce: (N-1)，非标准 nccl\n",
    "    - all-gather: (N-1)\n",
    "- 3张卡，长度为6的向量加和为例；\n",
    "    - input (each gpu model gradients):\n",
    "        - `[a0, a1 | a2, a3 | a4, a5] = [A0 | A1 | A2]`\n",
    "        - `[b0, b1 | b2, b3 | b4, b5] = [B0 | B1 | B2]`\n",
    "        - `[c0, c1 | c2, c3 | c4, c5] = [C0 | C1 | C2]`\n",
    "    - output (sync model gradients across gpus):\n",
    "        - `[a0+b0+c0, a1+b1+c1, a2+b2+c2, a3+b3+c3, a4+b4+c4, a5+b5+c5]`\n",
    "        - `[A0 + B0 + C0 | A1 + B1 + C1 | A2 + B2 + C2]`"
   ]
  },
  {
   "cell_type": "markdown",
   "id": "609a2cab-fcd4-4353-add8-2b0385d50335",
   "metadata": {},
   "source": [
    "### torch scatter reduce"
   ]
  },
  {
   "cell_type": "markdown",
   "id": "1c387c1e-da5e-41de-91d3-adc15679e53f",
   "metadata": {},
   "source": [
    "- https://pytorch.org/docs/stable/generated/torch.Tensor.scatter_reduce_.html"
   ]
  },
  {
   "cell_type": "code",
   "execution_count": 1,
   "id": "24be0822-4ea6-45c8-aa01-70eed0668cb2",
   "metadata": {
    "execution": {
     "iopub.execute_input": "2025-04-25T12:13:07.736014Z",
     "iopub.status.busy": "2025-04-25T12:13:07.735317Z",
     "iopub.status.idle": "2025-04-25T12:13:09.527979Z",
     "shell.execute_reply": "2025-04-25T12:13:09.526204Z",
     "shell.execute_reply.started": "2025-04-25T12:13:07.735949Z"
    }
   },
   "outputs": [],
   "source": [
    "import torch"
   ]
  },
  {
   "cell_type": "code",
   "execution_count": 2,
   "id": "50b5fa9d-affa-405d-abf7-cc7021f132b8",
   "metadata": {
    "execution": {
     "iopub.execute_input": "2025-04-25T12:13:10.458508Z",
     "iopub.status.busy": "2025-04-25T12:13:10.457851Z",
     "iopub.status.idle": "2025-04-25T12:13:10.479099Z",
     "shell.execute_reply": "2025-04-25T12:13:10.476541Z",
     "shell.execute_reply.started": "2025-04-25T12:13:10.458476Z"
    }
   },
   "outputs": [
    {
     "data": {
      "text/plain": [
       "tensor([ 5., 14.,  8.,  4.])"
      ]
     },
     "execution_count": 2,
     "metadata": {},
     "output_type": "execute_result"
    }
   ],
   "source": [
    "src = torch.tensor([1., 2., 3., 4., 5., 6.])\n",
    "index = torch.tensor([0, 1, 0, 1, 2, 1])\n",
    "input = torch.tensor([1., 2., 3., 4.])\n",
    "input.scatter_reduce(0, index, src, reduce=\"sum\", include_self=True)"
   ]
  },
  {
   "cell_type": "code",
   "execution_count": 3,
   "id": "cf875018-6e3e-4050-b398-49fe2eb62af2",
   "metadata": {
    "execution": {
     "iopub.execute_input": "2025-04-25T12:13:12.963596Z",
     "iopub.status.busy": "2025-04-25T12:13:12.962876Z",
     "iopub.status.idle": "2025-04-25T12:13:12.977867Z",
     "shell.execute_reply": "2025-04-25T12:13:12.975646Z",
     "shell.execute_reply.started": "2025-04-25T12:13:12.963533Z"
    }
   },
   "outputs": [
    {
     "data": {
      "text/plain": [
       "(5, 14, 8, 4)"
      ]
     },
     "execution_count": 3,
     "metadata": {},
     "output_type": "execute_result"
    }
   ],
   "source": [
    "1+(1+3), 2+(2+4+6), 3+(5), 4"
   ]
  },
  {
   "cell_type": "code",
   "execution_count": 4,
   "id": "118b2983-01da-460c-a673-2d768d4f1403",
   "metadata": {
    "execution": {
     "iopub.execute_input": "2025-04-25T12:13:21.566959Z",
     "iopub.status.busy": "2025-04-25T12:13:21.566253Z",
     "iopub.status.idle": "2025-04-25T12:13:21.585620Z",
     "shell.execute_reply": "2025-04-25T12:13:21.583148Z",
     "shell.execute_reply.started": "2025-04-25T12:13:21.566878Z"
    }
   },
   "outputs": [
    {
     "data": {
      "text/plain": [
       "tensor([1.6667, 3.5000, 4.0000, 4.0000])"
      ]
     },
     "execution_count": 4,
     "metadata": {},
     "output_type": "execute_result"
    }
   ],
   "source": [
    "src = torch.tensor([1., 2., 3., 4., 5., 6.])\n",
    "index = torch.tensor([0, 1, 0, 1, 2, 1])\n",
    "input = torch.tensor([1., 2., 3., 4.])\n",
    "input.scatter_reduce(0, index, src, reduce=\"mean\", include_self=True)"
   ]
  },
  {
   "cell_type": "code",
   "execution_count": 5,
   "id": "497a6be1-f44a-45cd-8ba9-5c63863b7d76",
   "metadata": {
    "execution": {
     "iopub.execute_input": "2025-04-25T12:13:52.092606Z",
     "iopub.status.busy": "2025-04-25T12:13:52.091865Z",
     "iopub.status.idle": "2025-04-25T12:13:52.106643Z",
     "shell.execute_reply": "2025-04-25T12:13:52.104417Z",
     "shell.execute_reply.started": "2025-04-25T12:13:52.092541Z"
    }
   },
   "outputs": [
    {
     "data": {
      "text/plain": [
       "(1.6666666666666667, 3.5, 4.0, 4)"
      ]
     },
     "execution_count": 5,
     "metadata": {},
     "output_type": "execute_result"
    }
   ],
   "source": [
    "(1+(1+3))/3, (2+(2+4+6))/4, (3+(5))/2, 4"
   ]
  },
  {
   "cell_type": "markdown",
   "id": "29b9aff7-3cf0-44d0-887d-9ed360974a22",
   "metadata": {},
   "source": [
    "### phase1： scatter reduce"
   ]
  },
  {
   "cell_type": "markdown",
   "id": "df8df1d3-eb58-4167-9118-be9eb3366861",
   "metadata": {},
   "source": [
    "> 减少通信量；\n",
    "\n",
    "- `[a0, a1 | a2, a3 | a4, a5] = [A0 | A1 | A2]`\n",
    "- `[b0, b1 | b2, b3 | b4, b5] = [B0 | B1 | B2]`\n",
    "- `[c0, c1 | c2, c3 | c4, c5] = [C0 | C1 | C2]`\n",
    "- scatter：data chunks，reduce：规约（降维）\n",
    "    - nccl 是 reduce-scatter\n",
    "- step1\n",
    "    - GPU0 =>(A2) GPU1 =>(B0) GPU2 =>(C1) GPU0\n",
    "        - GPU0: A1 + C1, `[A0, A1+C1, A2]`\n",
    "        - GPU1: B2 + A2, `[B0, B1, B2+A2]`\n",
    "        - GPU2: C0 + B0, `[C0+B0, C1, C2]` \n",
    "- step2\n",
    "    - GPU0 =>(A1+C1) GPU1 =>(B2+A2) GPU2 =>(C0+B0) GPU0\n",
    "        - GPU0: `[C0+B0+A0, A1+C1, A2]`\n",
    "        - GPU1: `[B0, A1+C1+B1, B2+A2]`\n",
    "        - GPU2: `[C0+B0, C1, B2+A2+C2]`"
   ]
  },
  {
   "cell_type": "markdown",
   "id": "be6ad07f-b037-4053-8451-3cecaaafc6e1",
   "metadata": {},
   "source": [
    "### phase2: all-gather"
   ]
  },
  {
   "cell_type": "markdown",
   "id": "cdb662fa-0b11-4dfe-9f36-27df346ea007",
   "metadata": {},
   "source": [
    "- `S0: A0+B0+C0, S1: A1+B1+C1, S2: A2+B2+C2`\n",
    "- step1:\n",
    "    - GPU0 =>(S0) GPU1 =>(S1) GPU2 =>(S2) GPU0\n",
    "      - GPU0: [S0, ..., S2]\n",
    "      - GPU1: [S0, S1, ...]\n",
    "      - GPU2: [..., S1, S2]\n",
    "- step2:\n",
    "    - GPU0 =>(S2) GPU1 =>(S0) GPU2 =>(S1) GPU0\n",
    "        - GPU0: [S0, S1, S2]\n",
    "        - GPU1: [S0, S1, S2]\n",
    "        - GPU2: [S0, S1, S2]"
   ]
  },
  {
   "cell_type": "code",
   "execution_count": 10,
   "id": "b08878c1-85e2-4bba-8885-57ada4ff48b2",
   "metadata": {
    "execution": {
     "iopub.execute_input": "2025-04-24T15:06:30.921099Z",
     "iopub.status.busy": "2025-04-24T15:06:30.920413Z",
     "iopub.status.idle": "2025-04-24T15:06:30.933595Z",
     "shell.execute_reply": "2025-04-24T15:06:30.931290Z",
     "shell.execute_reply.started": "2025-04-24T15:06:30.921035Z"
    }
   },
   "outputs": [
    {
     "data": {
      "text/html": [
       "<img src=\"./imgs/ring-allreduce.png\" width=\"600\"/>"
      ],
      "text/plain": [
       "<IPython.core.display.Image object>"
      ]
     },
     "execution_count": 10,
     "metadata": {},
     "output_type": "execute_result"
    }
   ],
   "source": [
    "Image(url='./imgs/ring-allreduce.png', width=600)"
   ]
  },
  {
   "cell_type": "markdown",
   "id": "f70aa3cc-3989-4f53-946d-431418073e46",
   "metadata": {},
   "source": [
    "### why ring-allreduce"
   ]
  },
  {
   "cell_type": "markdown",
   "id": "896ff4c2-10ca-4b6c-8d8f-6463c997167e",
   "metadata": {},
   "source": [
    "- 高效的带宽利用率 (Efficient Bandwidth Utilization):\n",
    "    - 分块传输: Ring-AllReduce 将需要同步的数据（例如梯度）分成多个小块（chunks）。\n",
    "    - 流水线效应: 数据块在环上逐步传输和计算。一个 GPU 可以同时发送一个块给下一个节点，并从上一个节点接收另一个块。这种流水线方式使得 GPU 间的通信链路（如 NVLink 或网络带宽）能够持续被利用，而不是在等待整个大块数据传输完成。\n",
    "    - 点对点通信: 每个 GPU 只需与其在环中的直接邻居通信。这使得算法可以充分利用现代 GPU 系统中高速的点对点连接（如 NVLink），避免了所有 GPU 都向一个中心点发送数据可能造成的拥塞。理论上，在 N 个 GPU 的环中，每个 GPU 在 Scatter-Reduce 和 All-Gather 阶段总共发送和接收的数据量大约是 2 * (N-1)/N * TotalDataSize，接近于最优值 2 * TotalDataSize。\n",
    "- 均衡的通信负载 (Balanced Communication Load):\n",
    "    - 在 Ring-AllReduce 中，每个 GPU 发送和接收的数据量大致相同，计算负载（Reduce 操作）也相对均衡地分布在各个步骤中。\n",
    "    - 这避免了像基于树（Tree-based）的 All-Reduce 算法中可能出现的根节点通信瓶颈问题，因为在树形结构中，靠近根节点的 GPU 需要处理更多的数据聚合或分发任务。\n",
    "- 避免中心瓶颈 (Avoids Central Bottleneck):\n",
    "    - 与参数服务器（Parameter Server）架构或其他需要中心协调节点的同步方法不同，Ring-AllReduce 是完全去中心化的。没有单个节点会成为性能瓶颈或单点故障。\n",
    "- 良好的可扩展性 (Good Scalability):\n",
    "    - 虽然完成一次完整的 Ring-AllReduce 需要 2 * (N-1) 步（N 是 GPU 数量），延迟会随着 N 线性增加，但关键在于每个 GPU 的带宽需求基本保持不变（与 N 无关）。\n",
    "对于带宽是主要瓶颈的大规模系统（尤其是在传输大量梯度时），这种恒定的带宽需求使得 Ring-AllReduce 比那些带宽需求随节点数增加而增加的算法更具扩展性。"
   ]
  }
 ],
 "metadata": {
  "kernelspec": {
   "display_name": "casual",
   "language": "python",
   "name": "casual"
  },
  "language_info": {
   "codemirror_mode": {
    "name": "ipython",
    "version": 3
   },
   "file_extension": ".py",
   "mimetype": "text/x-python",
   "name": "python",
   "nbconvert_exporter": "python",
   "pygments_lexer": "ipython3",
   "version": "3.10.0"
  }
 },
 "nbformat": 4,
 "nbformat_minor": 5
}
