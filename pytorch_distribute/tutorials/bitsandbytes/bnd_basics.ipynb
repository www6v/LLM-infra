{
 "cells": [
  {
   "cell_type": "markdown",
   "id": "b5f1a7ca",
   "metadata": {},
   "source": [
    "- references\n",
    "    - https://huggingface.co/blog/hf-bitsandbytes-integration\n",
    "    - https://huggingface.co/blog/4bit-transformers-bitsandbytes"
   ]
  },
  {
   "cell_type": "code",
   "execution_count": 1,
   "id": "77faa87b",
   "metadata": {
    "ExecuteTime": {
     "end_time": "2024-03-17T06:27:40.554019Z",
     "start_time": "2024-03-17T06:27:38.699385Z"
    }
   },
   "outputs": [],
   "source": [
    "import torch\n",
    "from transformers import BitsAndBytesConfig"
   ]
  },
  {
   "cell_type": "code",
   "execution_count": 2,
   "id": "a08060bb",
   "metadata": {
    "ExecuteTime": {
     "end_time": "2024-03-17T06:27:40.559418Z",
     "start_time": "2024-03-17T06:27:40.555737Z"
    }
   },
   "outputs": [],
   "source": [
    "bnb_config = BitsAndBytesConfig(\n",
    "    load_in_4bit=True,\n",
    "    bnb_4bit_quant_type=\"nf4\",\n",
    "    bnb_4bit_compute_dtype=torch.bfloat16,\n",
    ")"
   ]
  },
  {
   "cell_type": "markdown",
   "id": "21879562-9b65-4fbe-8ed9-3d3b6642558e",
   "metadata": {},
   "source": [
    "```\n",
    "print(base_model.get_memory_footprint() / (1024**2))\n",
    "for name, para in base_model.named_parameters():\n",
    "    print(para.dtype, name, para.shape)\n",
    "```"
   ]
  },
  {
   "cell_type": "markdown",
   "id": "171f7a98",
   "metadata": {},
   "source": [
    "- 4bit quantization \n",
    "    - pure FP4 quantization. \n",
    "    - NF4 (normalized float 4 (default))\n",
    "- compute dtype\n",
    "    - default torch.float32"
   ]
  },
  {
   "cell_type": "markdown",
   "id": "bdb9d110-5b0f-46c1-b15c-d27feacdd94f",
   "metadata": {},
   "source": [
    "## 16, 8, and 4-bit Floating Point"
   ]
  },
  {
   "cell_type": "markdown",
   "id": "2f4b4bda-a72c-4f42-93e8-02e11c9d6d8c",
   "metadata": {},
   "source": [
    "- references\n",
    "    - https://towardsdatascience.com/16-8-and-4-bit-floating-point-formats-how-does-it-work-d157a31ef2ef\n",
    "    - https://huggingface.co/blog/hf-bitsandbytes-integration\n",
    "        - https://colab.research.google.com/drive/1YORPWx4okIHXnjW7MSAidXN29mPVNT7F?usp=sharing\n",
    "        - https://colab.research.google.com/github/huggingface/blog/blob/main/notebooks/HuggingFace_int8_demo.ipynb#scrollTo=YJlldexxwnhM"
   ]
  },
  {
   "cell_type": "code",
   "execution_count": 4,
   "id": "441e7a9a-4d97-4385-87fe-a2b2e6094126",
   "metadata": {},
   "outputs": [],
   "source": [
    "from bitsandbytes.nn import Linear8bitLt\n",
    "from bitsandbytes.nn import LinearFP4, LinearNF4"
   ]
  }
 ],
 "metadata": {
  "kernelspec": {
   "display_name": "Python 3 (ipykernel)",
   "language": "python",
   "name": "python3"
  },
  "language_info": {
   "codemirror_mode": {
    "name": "ipython",
    "version": 3
   },
   "file_extension": ".py",
   "mimetype": "text/x-python",
   "name": "python",
   "nbconvert_exporter": "python",
   "pygments_lexer": "ipython3",
   "version": "3.10.13"
  },
  "toc": {
   "base_numbering": 1,
   "nav_menu": {},
   "number_sections": true,
   "sideBar": true,
   "skip_h1_title": false,
   "title_cell": "Table of Contents",
   "title_sidebar": "Contents",
   "toc_cell": false,
   "toc_position": {},
   "toc_section_display": true,
   "toc_window_display": false
  }
 },
 "nbformat": 4,
 "nbformat_minor": 5
}
